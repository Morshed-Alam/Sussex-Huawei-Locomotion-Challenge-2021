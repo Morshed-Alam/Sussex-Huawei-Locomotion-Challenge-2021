{
  "nbformat": 4,
  "nbformat_minor": 0,
  "metadata": {
    "colab": {
      "name": "shl_data_review.ipynb",
      "provenance": [],
      "collapsed_sections": [
        "5Q4hTyOWMDsJ",
        "zngNFufsQSVs",
        "dG2rylS5Qk8v",
        "pfBMKB-oQJUy",
        "epAOj9UwQZXe",
        "y-ead-L_TjHE",
        "ZkkoTPF1Uj8N",
        "F_95a-jSW5Xa",
        "VQdj87dIfVeR",
        "H-dJXARvnt-I",
        "F6nOsVSkn2ot",
        "EK7LJs-yn5VA",
        "Kpo3e6Fbn9OQ",
        "lQ0iMoFmbspq"
      ],
      "toc_visible": true,
      "machine_shape": "hm",
      "include_colab_link": true
    },
    "kernelspec": {
      "display_name": "Python 3",
      "name": "python3"
    },
    "widgets": {
      "application/vnd.jupyter.widget-state+json": {
        "02c116aac63a496d8ac2e85ed9799858": {
          "model_module": "@jupyter-widgets/controls",
          "model_name": "HBoxModel",
          "state": {
            "_view_name": "HBoxView",
            "_dom_classes": [],
            "_model_name": "HBoxModel",
            "_view_module": "@jupyter-widgets/controls",
            "_model_module_version": "1.5.0",
            "_view_count": null,
            "_view_module_version": "1.5.0",
            "box_style": "",
            "layout": "IPY_MODEL_61e7c574475447d4831bbdd17405c11a",
            "_model_module": "@jupyter-widgets/controls",
            "children": [
              "IPY_MODEL_78914e83be0b473782032ec9e55269c8",
              "IPY_MODEL_6bc1114b677a45409bba8702cfadcc02"
            ]
          }
        },
        "61e7c574475447d4831bbdd17405c11a": {
          "model_module": "@jupyter-widgets/base",
          "model_name": "LayoutModel",
          "state": {
            "_view_name": "LayoutView",
            "grid_template_rows": null,
            "right": null,
            "justify_content": null,
            "_view_module": "@jupyter-widgets/base",
            "overflow": null,
            "_model_module_version": "1.2.0",
            "_view_count": null,
            "flex_flow": null,
            "width": null,
            "min_width": null,
            "border": null,
            "align_items": null,
            "bottom": null,
            "_model_module": "@jupyter-widgets/base",
            "top": null,
            "grid_column": null,
            "overflow_y": null,
            "overflow_x": null,
            "grid_auto_flow": null,
            "grid_area": null,
            "grid_template_columns": null,
            "flex": null,
            "_model_name": "LayoutModel",
            "justify_items": null,
            "grid_row": null,
            "max_height": null,
            "align_content": null,
            "visibility": null,
            "align_self": null,
            "height": null,
            "min_height": null,
            "padding": null,
            "grid_auto_rows": null,
            "grid_gap": null,
            "max_width": null,
            "order": null,
            "_view_module_version": "1.2.0",
            "grid_template_areas": null,
            "object_position": null,
            "object_fit": null,
            "grid_auto_columns": null,
            "margin": null,
            "display": null,
            "left": null
          }
        },
        "78914e83be0b473782032ec9e55269c8": {
          "model_module": "@jupyter-widgets/controls",
          "model_name": "FloatProgressModel",
          "state": {
            "_view_name": "ProgressView",
            "style": "IPY_MODEL_7f94b544878240d5abdf37457a5bf49e",
            "_dom_classes": [],
            "description": "100%",
            "_model_name": "FloatProgressModel",
            "bar_style": "success",
            "max": 1,
            "_view_module": "@jupyter-widgets/controls",
            "_model_module_version": "1.5.0",
            "value": 1,
            "_view_count": null,
            "_view_module_version": "1.5.0",
            "orientation": "horizontal",
            "min": 0,
            "description_tooltip": null,
            "_model_module": "@jupyter-widgets/controls",
            "layout": "IPY_MODEL_ac6377d618da4ae9951184626ec438a0"
          }
        },
        "6bc1114b677a45409bba8702cfadcc02": {
          "model_module": "@jupyter-widgets/controls",
          "model_name": "HTMLModel",
          "state": {
            "_view_name": "HTMLView",
            "style": "IPY_MODEL_88a3bf4049d045a39bcc8c524e06ae52",
            "_dom_classes": [],
            "description": "",
            "_model_name": "HTMLModel",
            "placeholder": "​",
            "_view_module": "@jupyter-widgets/controls",
            "_model_module_version": "1.5.0",
            "value": " 1/1 [00:47&lt;00:00, 47.58s/it]",
            "_view_count": null,
            "_view_module_version": "1.5.0",
            "description_tooltip": null,
            "_model_module": "@jupyter-widgets/controls",
            "layout": "IPY_MODEL_75549ee46ea3492db9213c064fbdbefb"
          }
        },
        "7f94b544878240d5abdf37457a5bf49e": {
          "model_module": "@jupyter-widgets/controls",
          "model_name": "ProgressStyleModel",
          "state": {
            "_view_name": "StyleView",
            "_model_name": "ProgressStyleModel",
            "description_width": "initial",
            "_view_module": "@jupyter-widgets/base",
            "_model_module_version": "1.5.0",
            "_view_count": null,
            "_view_module_version": "1.2.0",
            "bar_color": null,
            "_model_module": "@jupyter-widgets/controls"
          }
        },
        "ac6377d618da4ae9951184626ec438a0": {
          "model_module": "@jupyter-widgets/base",
          "model_name": "LayoutModel",
          "state": {
            "_view_name": "LayoutView",
            "grid_template_rows": null,
            "right": null,
            "justify_content": null,
            "_view_module": "@jupyter-widgets/base",
            "overflow": null,
            "_model_module_version": "1.2.0",
            "_view_count": null,
            "flex_flow": null,
            "width": null,
            "min_width": null,
            "border": null,
            "align_items": null,
            "bottom": null,
            "_model_module": "@jupyter-widgets/base",
            "top": null,
            "grid_column": null,
            "overflow_y": null,
            "overflow_x": null,
            "grid_auto_flow": null,
            "grid_area": null,
            "grid_template_columns": null,
            "flex": null,
            "_model_name": "LayoutModel",
            "justify_items": null,
            "grid_row": null,
            "max_height": null,
            "align_content": null,
            "visibility": null,
            "align_self": null,
            "height": null,
            "min_height": null,
            "padding": null,
            "grid_auto_rows": null,
            "grid_gap": null,
            "max_width": null,
            "order": null,
            "_view_module_version": "1.2.0",
            "grid_template_areas": null,
            "object_position": null,
            "object_fit": null,
            "grid_auto_columns": null,
            "margin": null,
            "display": null,
            "left": null
          }
        },
        "88a3bf4049d045a39bcc8c524e06ae52": {
          "model_module": "@jupyter-widgets/controls",
          "model_name": "DescriptionStyleModel",
          "state": {
            "_view_name": "StyleView",
            "_model_name": "DescriptionStyleModel",
            "description_width": "",
            "_view_module": "@jupyter-widgets/base",
            "_model_module_version": "1.5.0",
            "_view_count": null,
            "_view_module_version": "1.2.0",
            "_model_module": "@jupyter-widgets/controls"
          }
        },
        "75549ee46ea3492db9213c064fbdbefb": {
          "model_module": "@jupyter-widgets/base",
          "model_name": "LayoutModel",
          "state": {
            "_view_name": "LayoutView",
            "grid_template_rows": null,
            "right": null,
            "justify_content": null,
            "_view_module": "@jupyter-widgets/base",
            "overflow": null,
            "_model_module_version": "1.2.0",
            "_view_count": null,
            "flex_flow": null,
            "width": null,
            "min_width": null,
            "border": null,
            "align_items": null,
            "bottom": null,
            "_model_module": "@jupyter-widgets/base",
            "top": null,
            "grid_column": null,
            "overflow_y": null,
            "overflow_x": null,
            "grid_auto_flow": null,
            "grid_area": null,
            "grid_template_columns": null,
            "flex": null,
            "_model_name": "LayoutModel",
            "justify_items": null,
            "grid_row": null,
            "max_height": null,
            "align_content": null,
            "visibility": null,
            "align_self": null,
            "height": null,
            "min_height": null,
            "padding": null,
            "grid_auto_rows": null,
            "grid_gap": null,
            "max_width": null,
            "order": null,
            "_view_module_version": "1.2.0",
            "grid_template_areas": null,
            "object_position": null,
            "object_fit": null,
            "grid_auto_columns": null,
            "margin": null,
            "display": null,
            "left": null
          }
        },
        "024666a71bcc430cb760a450af1855bc": {
          "model_module": "@jupyter-widgets/controls",
          "model_name": "HBoxModel",
          "state": {
            "_view_name": "HBoxView",
            "_dom_classes": [],
            "_model_name": "HBoxModel",
            "_view_module": "@jupyter-widgets/controls",
            "_model_module_version": "1.5.0",
            "_view_count": null,
            "_view_module_version": "1.5.0",
            "box_style": "",
            "layout": "IPY_MODEL_2f4b988d97ae4119b6c61e3120f8f3b7",
            "_model_module": "@jupyter-widgets/controls",
            "children": [
              "IPY_MODEL_3ac04d34de0b4fb793d6bf70e55b2bca",
              "IPY_MODEL_79b240446dfe4188ae94efbb9619e7f0"
            ]
          }
        },
        "2f4b988d97ae4119b6c61e3120f8f3b7": {
          "model_module": "@jupyter-widgets/base",
          "model_name": "LayoutModel",
          "state": {
            "_view_name": "LayoutView",
            "grid_template_rows": null,
            "right": null,
            "justify_content": null,
            "_view_module": "@jupyter-widgets/base",
            "overflow": null,
            "_model_module_version": "1.2.0",
            "_view_count": null,
            "flex_flow": null,
            "width": null,
            "min_width": null,
            "border": null,
            "align_items": null,
            "bottom": null,
            "_model_module": "@jupyter-widgets/base",
            "top": null,
            "grid_column": null,
            "overflow_y": null,
            "overflow_x": null,
            "grid_auto_flow": null,
            "grid_area": null,
            "grid_template_columns": null,
            "flex": null,
            "_model_name": "LayoutModel",
            "justify_items": null,
            "grid_row": null,
            "max_height": null,
            "align_content": null,
            "visibility": null,
            "align_self": null,
            "height": null,
            "min_height": null,
            "padding": null,
            "grid_auto_rows": null,
            "grid_gap": null,
            "max_width": null,
            "order": null,
            "_view_module_version": "1.2.0",
            "grid_template_areas": null,
            "object_position": null,
            "object_fit": null,
            "grid_auto_columns": null,
            "margin": null,
            "display": null,
            "left": null
          }
        },
        "3ac04d34de0b4fb793d6bf70e55b2bca": {
          "model_module": "@jupyter-widgets/controls",
          "model_name": "FloatProgressModel",
          "state": {
            "_view_name": "ProgressView",
            "style": "IPY_MODEL_413b41de5d3a4ba49e8f61097de856c4",
            "_dom_classes": [],
            "description": "100%",
            "_model_name": "FloatProgressModel",
            "bar_style": "success",
            "max": 1,
            "_view_module": "@jupyter-widgets/controls",
            "_model_module_version": "1.5.0",
            "value": 1,
            "_view_count": null,
            "_view_module_version": "1.5.0",
            "orientation": "horizontal",
            "min": 0,
            "description_tooltip": null,
            "_model_module": "@jupyter-widgets/controls",
            "layout": "IPY_MODEL_9af15fe69b614641ab3caaf416e7a450"
          }
        },
        "79b240446dfe4188ae94efbb9619e7f0": {
          "model_module": "@jupyter-widgets/controls",
          "model_name": "HTMLModel",
          "state": {
            "_view_name": "HTMLView",
            "style": "IPY_MODEL_a731f8ec921b4f9d8d1accdb2ed0742d",
            "_dom_classes": [],
            "description": "",
            "_model_name": "HTMLModel",
            "placeholder": "​",
            "_view_module": "@jupyter-widgets/controls",
            "_model_module_version": "1.5.0",
            "value": " 1/1 [00:40&lt;00:00, 40.76s/it]",
            "_view_count": null,
            "_view_module_version": "1.5.0",
            "description_tooltip": null,
            "_model_module": "@jupyter-widgets/controls",
            "layout": "IPY_MODEL_634e944650724af38b85b080d7690b6f"
          }
        },
        "413b41de5d3a4ba49e8f61097de856c4": {
          "model_module": "@jupyter-widgets/controls",
          "model_name": "ProgressStyleModel",
          "state": {
            "_view_name": "StyleView",
            "_model_name": "ProgressStyleModel",
            "description_width": "initial",
            "_view_module": "@jupyter-widgets/base",
            "_model_module_version": "1.5.0",
            "_view_count": null,
            "_view_module_version": "1.2.0",
            "bar_color": null,
            "_model_module": "@jupyter-widgets/controls"
          }
        },
        "9af15fe69b614641ab3caaf416e7a450": {
          "model_module": "@jupyter-widgets/base",
          "model_name": "LayoutModel",
          "state": {
            "_view_name": "LayoutView",
            "grid_template_rows": null,
            "right": null,
            "justify_content": null,
            "_view_module": "@jupyter-widgets/base",
            "overflow": null,
            "_model_module_version": "1.2.0",
            "_view_count": null,
            "flex_flow": null,
            "width": null,
            "min_width": null,
            "border": null,
            "align_items": null,
            "bottom": null,
            "_model_module": "@jupyter-widgets/base",
            "top": null,
            "grid_column": null,
            "overflow_y": null,
            "overflow_x": null,
            "grid_auto_flow": null,
            "grid_area": null,
            "grid_template_columns": null,
            "flex": null,
            "_model_name": "LayoutModel",
            "justify_items": null,
            "grid_row": null,
            "max_height": null,
            "align_content": null,
            "visibility": null,
            "align_self": null,
            "height": null,
            "min_height": null,
            "padding": null,
            "grid_auto_rows": null,
            "grid_gap": null,
            "max_width": null,
            "order": null,
            "_view_module_version": "1.2.0",
            "grid_template_areas": null,
            "object_position": null,
            "object_fit": null,
            "grid_auto_columns": null,
            "margin": null,
            "display": null,
            "left": null
          }
        },
        "a731f8ec921b4f9d8d1accdb2ed0742d": {
          "model_module": "@jupyter-widgets/controls",
          "model_name": "DescriptionStyleModel",
          "state": {
            "_view_name": "StyleView",
            "_model_name": "DescriptionStyleModel",
            "description_width": "",
            "_view_module": "@jupyter-widgets/base",
            "_model_module_version": "1.5.0",
            "_view_count": null,
            "_view_module_version": "1.2.0",
            "_model_module": "@jupyter-widgets/controls"
          }
        },
        "634e944650724af38b85b080d7690b6f": {
          "model_module": "@jupyter-widgets/base",
          "model_name": "LayoutModel",
          "state": {
            "_view_name": "LayoutView",
            "grid_template_rows": null,
            "right": null,
            "justify_content": null,
            "_view_module": "@jupyter-widgets/base",
            "overflow": null,
            "_model_module_version": "1.2.0",
            "_view_count": null,
            "flex_flow": null,
            "width": null,
            "min_width": null,
            "border": null,
            "align_items": null,
            "bottom": null,
            "_model_module": "@jupyter-widgets/base",
            "top": null,
            "grid_column": null,
            "overflow_y": null,
            "overflow_x": null,
            "grid_auto_flow": null,
            "grid_area": null,
            "grid_template_columns": null,
            "flex": null,
            "_model_name": "LayoutModel",
            "justify_items": null,
            "grid_row": null,
            "max_height": null,
            "align_content": null,
            "visibility": null,
            "align_self": null,
            "height": null,
            "min_height": null,
            "padding": null,
            "grid_auto_rows": null,
            "grid_gap": null,
            "max_width": null,
            "order": null,
            "_view_module_version": "1.2.0",
            "grid_template_areas": null,
            "object_position": null,
            "object_fit": null,
            "grid_auto_columns": null,
            "margin": null,
            "display": null,
            "left": null
          }
        },
        "99e6130c28ca4025a77048d279acb0a1": {
          "model_module": "@jupyter-widgets/controls",
          "model_name": "HBoxModel",
          "state": {
            "_view_name": "HBoxView",
            "_dom_classes": [],
            "_model_name": "HBoxModel",
            "_view_module": "@jupyter-widgets/controls",
            "_model_module_version": "1.5.0",
            "_view_count": null,
            "_view_module_version": "1.5.0",
            "box_style": "",
            "layout": "IPY_MODEL_f15c805e4529490388402726ef6154b8",
            "_model_module": "@jupyter-widgets/controls",
            "children": [
              "IPY_MODEL_236c62cc25ef4c7d9343797af8950bbe",
              "IPY_MODEL_6339b7e0558d49e4b9d2afdd71f42194"
            ]
          }
        },
        "f15c805e4529490388402726ef6154b8": {
          "model_module": "@jupyter-widgets/base",
          "model_name": "LayoutModel",
          "state": {
            "_view_name": "LayoutView",
            "grid_template_rows": null,
            "right": null,
            "justify_content": null,
            "_view_module": "@jupyter-widgets/base",
            "overflow": null,
            "_model_module_version": "1.2.0",
            "_view_count": null,
            "flex_flow": null,
            "width": null,
            "min_width": null,
            "border": null,
            "align_items": null,
            "bottom": null,
            "_model_module": "@jupyter-widgets/base",
            "top": null,
            "grid_column": null,
            "overflow_y": null,
            "overflow_x": null,
            "grid_auto_flow": null,
            "grid_area": null,
            "grid_template_columns": null,
            "flex": null,
            "_model_name": "LayoutModel",
            "justify_items": null,
            "grid_row": null,
            "max_height": null,
            "align_content": null,
            "visibility": null,
            "align_self": null,
            "height": null,
            "min_height": null,
            "padding": null,
            "grid_auto_rows": null,
            "grid_gap": null,
            "max_width": null,
            "order": null,
            "_view_module_version": "1.2.0",
            "grid_template_areas": null,
            "object_position": null,
            "object_fit": null,
            "grid_auto_columns": null,
            "margin": null,
            "display": null,
            "left": null
          }
        },
        "236c62cc25ef4c7d9343797af8950bbe": {
          "model_module": "@jupyter-widgets/controls",
          "model_name": "FloatProgressModel",
          "state": {
            "_view_name": "ProgressView",
            "style": "IPY_MODEL_a7e1f00568a04382aa62f4a4c4804baa",
            "_dom_classes": [],
            "description": "100%",
            "_model_name": "FloatProgressModel",
            "bar_style": "success",
            "max": 1,
            "_view_module": "@jupyter-widgets/controls",
            "_model_module_version": "1.5.0",
            "value": 1,
            "_view_count": null,
            "_view_module_version": "1.5.0",
            "orientation": "horizontal",
            "min": 0,
            "description_tooltip": null,
            "_model_module": "@jupyter-widgets/controls",
            "layout": "IPY_MODEL_ef1d177dc82b46eda427ffd364330406"
          }
        },
        "6339b7e0558d49e4b9d2afdd71f42194": {
          "model_module": "@jupyter-widgets/controls",
          "model_name": "HTMLModel",
          "state": {
            "_view_name": "HTMLView",
            "style": "IPY_MODEL_0e9c723ef2674e93ac3f83a093c9f2f1",
            "_dom_classes": [],
            "description": "",
            "_model_name": "HTMLModel",
            "placeholder": "​",
            "_view_module": "@jupyter-widgets/controls",
            "_model_module_version": "1.5.0",
            "value": " 1/1 [00:12&lt;00:00, 12.82s/it]",
            "_view_count": null,
            "_view_module_version": "1.5.0",
            "description_tooltip": null,
            "_model_module": "@jupyter-widgets/controls",
            "layout": "IPY_MODEL_72e4635af1324fc3b076ab26acd74ad2"
          }
        },
        "a7e1f00568a04382aa62f4a4c4804baa": {
          "model_module": "@jupyter-widgets/controls",
          "model_name": "ProgressStyleModel",
          "state": {
            "_view_name": "StyleView",
            "_model_name": "ProgressStyleModel",
            "description_width": "initial",
            "_view_module": "@jupyter-widgets/base",
            "_model_module_version": "1.5.0",
            "_view_count": null,
            "_view_module_version": "1.2.0",
            "bar_color": null,
            "_model_module": "@jupyter-widgets/controls"
          }
        },
        "ef1d177dc82b46eda427ffd364330406": {
          "model_module": "@jupyter-widgets/base",
          "model_name": "LayoutModel",
          "state": {
            "_view_name": "LayoutView",
            "grid_template_rows": null,
            "right": null,
            "justify_content": null,
            "_view_module": "@jupyter-widgets/base",
            "overflow": null,
            "_model_module_version": "1.2.0",
            "_view_count": null,
            "flex_flow": null,
            "width": null,
            "min_width": null,
            "border": null,
            "align_items": null,
            "bottom": null,
            "_model_module": "@jupyter-widgets/base",
            "top": null,
            "grid_column": null,
            "overflow_y": null,
            "overflow_x": null,
            "grid_auto_flow": null,
            "grid_area": null,
            "grid_template_columns": null,
            "flex": null,
            "_model_name": "LayoutModel",
            "justify_items": null,
            "grid_row": null,
            "max_height": null,
            "align_content": null,
            "visibility": null,
            "align_self": null,
            "height": null,
            "min_height": null,
            "padding": null,
            "grid_auto_rows": null,
            "grid_gap": null,
            "max_width": null,
            "order": null,
            "_view_module_version": "1.2.0",
            "grid_template_areas": null,
            "object_position": null,
            "object_fit": null,
            "grid_auto_columns": null,
            "margin": null,
            "display": null,
            "left": null
          }
        },
        "0e9c723ef2674e93ac3f83a093c9f2f1": {
          "model_module": "@jupyter-widgets/controls",
          "model_name": "DescriptionStyleModel",
          "state": {
            "_view_name": "StyleView",
            "_model_name": "DescriptionStyleModel",
            "description_width": "",
            "_view_module": "@jupyter-widgets/base",
            "_model_module_version": "1.5.0",
            "_view_count": null,
            "_view_module_version": "1.2.0",
            "_model_module": "@jupyter-widgets/controls"
          }
        },
        "72e4635af1324fc3b076ab26acd74ad2": {
          "model_module": "@jupyter-widgets/base",
          "model_name": "LayoutModel",
          "state": {
            "_view_name": "LayoutView",
            "grid_template_rows": null,
            "right": null,
            "justify_content": null,
            "_view_module": "@jupyter-widgets/base",
            "overflow": null,
            "_model_module_version": "1.2.0",
            "_view_count": null,
            "flex_flow": null,
            "width": null,
            "min_width": null,
            "border": null,
            "align_items": null,
            "bottom": null,
            "_model_module": "@jupyter-widgets/base",
            "top": null,
            "grid_column": null,
            "overflow_y": null,
            "overflow_x": null,
            "grid_auto_flow": null,
            "grid_area": null,
            "grid_template_columns": null,
            "flex": null,
            "_model_name": "LayoutModel",
            "justify_items": null,
            "grid_row": null,
            "max_height": null,
            "align_content": null,
            "visibility": null,
            "align_self": null,
            "height": null,
            "min_height": null,
            "padding": null,
            "grid_auto_rows": null,
            "grid_gap": null,
            "max_width": null,
            "order": null,
            "_view_module_version": "1.2.0",
            "grid_template_areas": null,
            "object_position": null,
            "object_fit": null,
            "grid_auto_columns": null,
            "margin": null,
            "display": null,
            "left": null
          }
        }
      }
    }
  },
  "cells": [
    {
      "cell_type": "markdown",
      "metadata": {
        "id": "view-in-github",
        "colab_type": "text"
      },
      "source": [
        "<a href=\"https://colab.research.google.com/github/Morshed-Alam/Sussex-Huawei-Locomotion-Challenge-2021/blob/main/shl_data_review.ipynb\" target=\"_parent\"><img src=\"https://colab.research.google.com/assets/colab-badge.svg\" alt=\"Open In Colab\"/></a>"
      ]
    },
    {
      "cell_type": "markdown",
      "metadata": {
        "id": "08lqVGBZfGzf"
      },
      "source": [
        "# Basic Dataset Exploration"
      ]
    },
    {
      "cell_type": "markdown",
      "metadata": {
        "id": "5Q4hTyOWMDsJ"
      },
      "source": [
        "## Function for display output side by side\n",
        "Don't work on google colab but work on jupyter notebook"
      ]
    },
    {
      "cell_type": "code",
      "metadata": {
        "id": "Yo_XV5vsMIVr"
      },
      "source": [
        "from IPython.display import display_html\n",
        "from itertools import chain,cycle\n",
        "def display_side_by_side(*args,titles=cycle([''])):\n",
        "    html_str=''\n",
        "    for df,title in zip(args, chain(titles,cycle(['</br>'])) ):\n",
        "        html_str+='<th style=\"text-align:center\"><td style=\"vertical-align:top\">'\n",
        "        html_str+=f'<h2>{title}</h2>'\n",
        "        html_str+=df.to_html().replace('table','table style=\"display:inline\"')\n",
        "        html_str+='</td></th>'\n",
        "    display_html(html_str,raw=True)"
      ],
      "execution_count": null,
      "outputs": []
    },
    {
      "cell_type": "markdown",
      "metadata": {
        "id": "zngNFufsQSVs"
      },
      "source": [
        "## Text file modification function"
      ]
    },
    {
      "cell_type": "code",
      "metadata": {
        "id": "KhaDLt815SaA"
      },
      "source": [
        "def modify_txt_file(path, col_no_to_remain, has_new_line, delimiter=';'):\n",
        "    mod_lines = []\n",
        "    with open(path) as f:\n",
        "         lines = f.readlines()\n",
        "\n",
        "    for line in lines:\n",
        "         l = line.split(delimiter)\n",
        "         mod_lines.append(l[0] + \";\" + l[col_no_to_remain] + has_new_line)\n",
        "\n",
        "    with open(path.split('.')[0] + \"_mod.txt\", mode='w') as f:\n",
        "         f.writelines(mod_lines)"
      ],
      "execution_count": null,
      "outputs": []
    },
    {
      "cell_type": "markdown",
      "metadata": {
        "id": "dG2rylS5Qk8v"
      },
      "source": [
        "## Data Loading and Organization"
      ]
    },
    {
      "cell_type": "code",
      "metadata": {
        "id": "tZRSiDYNQLSr"
      },
      "source": [
        "!rm -r /content/*\n",
        "!mkdir train valid test"
      ],
      "execution_count": null,
      "outputs": []
    },
    {
      "cell_type": "code",
      "metadata": {
        "colab": {
          "base_uri": "https://localhost:8080/"
        },
        "id": "87T5BetZQYQv",
        "outputId": "6a6d87a9-1bb6-48eb-f52d-0696c79a1203"
      },
      "source": [
        "!curl -o /content/train/SHL-2021-Train.zip http://www.shl-dataset.org/wp-content/uploads/SHLChallenge2021/SHL-2021-Train.zip\n",
        "!curl -o /content/valid/SHL-2021-Validate.zip http://www.shl-dataset.org/wp-content/uploads/SHLChallenge2021/SHL-2021-Validate.zip\n",
        "!curl -o /content/test/SHL-2021-Test.zip http://www.shl-dataset.org/wp-content/uploads/SHLChallenge2021/SHL-2021-Test.zip"
      ],
      "execution_count": null,
      "outputs": [
        {
          "output_type": "stream",
          "text": [
            "  % Total    % Received % Xferd  Average Speed   Time    Time     Time  Current\n",
            "                                 Dload  Upload   Total   Spent    Left  Speed\n",
            "100 83.1M  100 83.1M    0     0  8235k      0  0:00:10  0:00:10 --:--:-- 8065k\n",
            "  % Total    % Received % Xferd  Average Speed   Time    Time     Time  Current\n",
            "                                 Dload  Upload   Total   Spent    Left  Speed\n",
            "100 9035k  100 9035k    0     0  6266k      0  0:00:01  0:00:01 --:--:-- 6261k\n",
            "  % Total    % Received % Xferd  Average Speed   Time    Time     Time  Current\n",
            "                                 Dload  Upload   Total   Spent    Left  Speed\n",
            "100 45.6M  100 45.6M    0     0  8892k      0  0:00:05  0:00:05 --:--:-- 9558k\n"
          ],
          "name": "stdout"
        }
      ]
    },
    {
      "cell_type": "code",
      "metadata": {
        "id": "YOckP_sYQcda"
      },
      "source": [
        "import zipfile\n",
        "import os\n",
        "from tqdm import notebook as tqdm\n",
        "def un_zipFiles(path):\n",
        "    files=os.listdir(path)\n",
        "    for file in tqdm.tqdm(files):\n",
        "        if file.endswith('.zip'):\n",
        "            filePath=path+'/'+file\n",
        "            zip_file = zipfile.ZipFile(filePath)\n",
        "            for names in zip_file.namelist():\n",
        "                zip_file.extract(names,path)\n",
        "            zip_file.close()"
      ],
      "execution_count": null,
      "outputs": []
    },
    {
      "cell_type": "code",
      "metadata": {
        "id": "_F9FfyFSQl_5",
        "colab": {
          "base_uri": "https://localhost:8080/",
          "referenced_widgets": [
            "02c116aac63a496d8ac2e85ed9799858",
            "61e7c574475447d4831bbdd17405c11a",
            "78914e83be0b473782032ec9e55269c8",
            "6bc1114b677a45409bba8702cfadcc02",
            "7f94b544878240d5abdf37457a5bf49e",
            "ac6377d618da4ae9951184626ec438a0",
            "88a3bf4049d045a39bcc8c524e06ae52",
            "75549ee46ea3492db9213c064fbdbefb",
            "024666a71bcc430cb760a450af1855bc",
            "2f4b988d97ae4119b6c61e3120f8f3b7",
            "3ac04d34de0b4fb793d6bf70e55b2bca",
            "79b240446dfe4188ae94efbb9619e7f0",
            "413b41de5d3a4ba49e8f61097de856c4",
            "9af15fe69b614641ab3caaf416e7a450",
            "a731f8ec921b4f9d8d1accdb2ed0742d",
            "634e944650724af38b85b080d7690b6f",
            "99e6130c28ca4025a77048d279acb0a1",
            "f15c805e4529490388402726ef6154b8",
            "236c62cc25ef4c7d9343797af8950bbe",
            "6339b7e0558d49e4b9d2afdd71f42194",
            "a7e1f00568a04382aa62f4a4c4804baa",
            "ef1d177dc82b46eda427ffd364330406",
            "0e9c723ef2674e93ac3f83a093c9f2f1",
            "72e4635af1324fc3b076ab26acd74ad2"
          ]
        },
        "outputId": "4d304cba-b7a3-4d96-8e3d-50b8431a4e9e"
      },
      "source": [
        "un_zipFiles('/content/train')\n",
        "un_zipFiles('/content/valid')\n",
        "un_zipFiles('/content/test')\n",
        "!rm /content/train/SHL-2021-Train.zip /content/valid/SHL-2021-Validate.zip /content/test/SHL-2021-Test.zip"
      ],
      "execution_count": null,
      "outputs": [
        {
          "output_type": "display_data",
          "data": {
            "application/vnd.jupyter.widget-view+json": {
              "model_id": "02c116aac63a496d8ac2e85ed9799858",
              "version_minor": 0,
              "version_major": 2
            },
            "text/plain": [
              "HBox(children=(FloatProgress(value=0.0, max=1.0), HTML(value='')))"
            ]
          },
          "metadata": {
            "tags": []
          }
        },
        {
          "output_type": "stream",
          "text": [
            "\n"
          ],
          "name": "stdout"
        },
        {
          "output_type": "display_data",
          "data": {
            "application/vnd.jupyter.widget-view+json": {
              "model_id": "024666a71bcc430cb760a450af1855bc",
              "version_minor": 0,
              "version_major": 2
            },
            "text/plain": [
              "HBox(children=(FloatProgress(value=0.0, max=1.0), HTML(value='')))"
            ]
          },
          "metadata": {
            "tags": []
          }
        },
        {
          "output_type": "stream",
          "text": [
            "\n"
          ],
          "name": "stdout"
        },
        {
          "output_type": "display_data",
          "data": {
            "application/vnd.jupyter.widget-view+json": {
              "model_id": "99e6130c28ca4025a77048d279acb0a1",
              "version_minor": 0,
              "version_major": 2
            },
            "text/plain": [
              "HBox(children=(FloatProgress(value=0.0, max=1.0), HTML(value='')))"
            ]
          },
          "metadata": {
            "tags": []
          }
        },
        {
          "output_type": "stream",
          "text": [
            "\n"
          ],
          "name": "stdout"
        }
      ]
    },
    {
      "cell_type": "markdown",
      "metadata": {
        "id": "pfBMKB-oQJUy"
      },
      "source": [
        "## Location Data"
      ]
    },
    {
      "cell_type": "code",
      "metadata": {
        "id": "xalsFDNyQp66"
      },
      "source": [
        "import pandas as pd\n",
        "\n",
        "location_train = pd.read_csv('/content/train/Location.txt', header=None, delimiter=' ', names=['Epoch Time', 'Ignore1', 'Ignore2','Accuracy', 'Latitude', 'Longitude', 'Altitude'])\n",
        "location_valid = pd.read_csv('/content/valid/Location.txt', header=None, delimiter=' ', names=['Epoch Time', 'Ignore1', 'Ignore2','Accuracy', 'Latitude', 'Longitude', 'Altitude'])\n",
        "location_test = pd.read_csv('/content/test/Location.txt', header=None, delimiter=' ', names=['Epoch Time', 'Ignore1', 'Ignore2','Accuracy', 'Latitude', 'Longitude', 'Altitude'])\n",
        "location_train = location_train[['Epoch Time','Accuracy', 'Latitude', 'Longitude', 'Altitude']]\n",
        "location_valid = location_valid[['Epoch Time','Accuracy', 'Latitude', 'Longitude', 'Altitude']]\n",
        "location_test = location_test[['Epoch Time','Accuracy', 'Latitude', 'Longitude', 'Altitude']]\n",
        "location_train['Epoch Time'] = pd.to_datetime(location_train['Epoch Time'], unit='ms').astype('datetime64[s]')\n",
        "location_valid['Epoch Time'] = pd.to_datetime(location_valid['Epoch Time'], unit='ms').astype('datetime64[s]')\n",
        "location_test['Epoch Time'] = pd.to_datetime(location_test['Epoch Time'], unit='ms').astype('datetime64[s]')\n",
        "location = pd.concat([location_train, location_valid, location_test], axis=0)"
      ],
      "execution_count": null,
      "outputs": []
    },
    {
      "cell_type": "code",
      "metadata": {
        "colab": {
          "base_uri": "https://localhost:8080/"
        },
        "id": "XryjXIYhQ_gM",
        "outputId": "452ac14f-cf49-4fba-f0d0-5bcde7c427dd"
      },
      "source": [
        "print(\"Size of location_train: \", location_train.shape)\n",
        "print(\"Size of location_valid: \", location_valid.shape)\n",
        "print(\"Size of location_test: \", location_test.shape)\n",
        "print('Size of location: ', location.shape)"
      ],
      "execution_count": null,
      "outputs": [
        {
          "output_type": "stream",
          "text": [
            "Size of location_train:  (911109, 5)\n",
            "Size of location_valid:  (101524, 5)\n",
            "Size of location_test:  (562565, 5)\n",
            "Size of location:  (1575198, 5)\n"
          ],
          "name": "stdout"
        }
      ]
    },
    {
      "cell_type": "code",
      "metadata": {
        "colab": {
          "base_uri": "https://localhost:8080/"
        },
        "id": "beJ_3jq4JkDD",
        "outputId": "443d4dd4-06bc-49f1-90fa-e373f8d68ee0"
      },
      "source": [
        "display_side_by_side(location_train.head(), location_valid.head(), location_test.head(), titles=['location_train', 'location_valid', 'location_test'])"
      ],
      "execution_count": null,
      "outputs": [
        {
          "output_type": "display_data",
          "data": {
            "text/html": [
              "<th style=\"text-align:center\"><td style=\"vertical-align:top\"><h2>location_train</h2><table style=\"display:inline\" border=\"1\" class=\"dataframe\">\n",
              "  <thead>\n",
              "    <tr style=\"text-align: right;\">\n",
              "      <th></th>\n",
              "      <th>Epoch Time</th>\n",
              "      <th>Accuracy</th>\n",
              "      <th>Latitude</th>\n",
              "      <th>Longitude</th>\n",
              "      <th>Altitude</th>\n",
              "    </tr>\n",
              "  </thead>\n",
              "  <tbody>\n",
              "    <tr>\n",
              "      <th>0</th>\n",
              "      <td>2017-03-25 08:47:38</td>\n",
              "      <td>64.0</td>\n",
              "      <td>50.844494</td>\n",
              "      <td>-0.132922</td>\n",
              "      <td>97.664610</td>\n",
              "    </tr>\n",
              "    <tr>\n",
              "      <th>1</th>\n",
              "      <td>2017-03-25 08:47:39</td>\n",
              "      <td>48.0</td>\n",
              "      <td>50.844491</td>\n",
              "      <td>-0.132924</td>\n",
              "      <td>128.267900</td>\n",
              "    </tr>\n",
              "    <tr>\n",
              "      <th>2</th>\n",
              "      <td>2017-03-25 08:47:40</td>\n",
              "      <td>48.0</td>\n",
              "      <td>50.844481</td>\n",
              "      <td>-0.132931</td>\n",
              "      <td>135.611425</td>\n",
              "    </tr>\n",
              "    <tr>\n",
              "      <th>3</th>\n",
              "      <td>2017-03-25 08:47:41</td>\n",
              "      <td>12.0</td>\n",
              "      <td>50.844469</td>\n",
              "      <td>-0.132930</td>\n",
              "      <td>134.436050</td>\n",
              "    </tr>\n",
              "    <tr>\n",
              "      <th>4</th>\n",
              "      <td>2017-03-25 08:47:42</td>\n",
              "      <td>32.0</td>\n",
              "      <td>50.844267</td>\n",
              "      <td>-0.132787</td>\n",
              "      <td>135.993866</td>\n",
              "    </tr>\n",
              "  </tbody>\n",
              "</table style=\"display:inline\"></td></th><th style=\"text-align:center\"><td style=\"vertical-align:top\"><h2>location_valid</h2><table style=\"display:inline\" border=\"1\" class=\"dataframe\">\n",
              "  <thead>\n",
              "    <tr style=\"text-align: right;\">\n",
              "      <th></th>\n",
              "      <th>Epoch Time</th>\n",
              "      <th>Accuracy</th>\n",
              "      <th>Latitude</th>\n",
              "      <th>Longitude</th>\n",
              "      <th>Altitude</th>\n",
              "    </tr>\n",
              "  </thead>\n",
              "  <tbody>\n",
              "    <tr>\n",
              "      <th>0</th>\n",
              "      <td>2017-06-14 07:48:23</td>\n",
              "      <td>96.0</td>\n",
              "      <td>50.826394</td>\n",
              "      <td>-0.119515</td>\n",
              "      <td>248.937172</td>\n",
              "    </tr>\n",
              "    <tr>\n",
              "      <th>1</th>\n",
              "      <td>2017-06-14 07:48:25</td>\n",
              "      <td>128.0</td>\n",
              "      <td>50.826394</td>\n",
              "      <td>-0.119528</td>\n",
              "      <td>129.362557</td>\n",
              "    </tr>\n",
              "    <tr>\n",
              "      <th>2</th>\n",
              "      <td>2017-06-14 07:48:26</td>\n",
              "      <td>96.0</td>\n",
              "      <td>50.826394</td>\n",
              "      <td>-0.119551</td>\n",
              "      <td>130.095681</td>\n",
              "    </tr>\n",
              "    <tr>\n",
              "      <th>3</th>\n",
              "      <td>2017-06-14 07:48:27</td>\n",
              "      <td>128.0</td>\n",
              "      <td>50.826396</td>\n",
              "      <td>-0.119589</td>\n",
              "      <td>130.184470</td>\n",
              "    </tr>\n",
              "    <tr>\n",
              "      <th>4</th>\n",
              "      <td>2017-06-14 07:48:28</td>\n",
              "      <td>128.0</td>\n",
              "      <td>50.826396</td>\n",
              "      <td>-0.119589</td>\n",
              "      <td>130.184470</td>\n",
              "    </tr>\n",
              "  </tbody>\n",
              "</table style=\"display:inline\"></td></th><th style=\"text-align:center\"><td style=\"vertical-align:top\"><h2>location_test</h2><table style=\"display:inline\" border=\"1\" class=\"dataframe\">\n",
              "  <thead>\n",
              "    <tr style=\"text-align: right;\">\n",
              "      <th></th>\n",
              "      <th>Epoch Time</th>\n",
              "      <th>Accuracy</th>\n",
              "      <th>Latitude</th>\n",
              "      <th>Longitude</th>\n",
              "      <th>Altitude</th>\n",
              "    </tr>\n",
              "  </thead>\n",
              "  <tbody>\n",
              "    <tr>\n",
              "      <th>0</th>\n",
              "      <td>2049-02-13 13:17:48</td>\n",
              "      <td>350.0</td>\n",
              "      <td>50.866518</td>\n",
              "      <td>-0.087109</td>\n",
              "      <td>205.939654</td>\n",
              "    </tr>\n",
              "    <tr>\n",
              "      <th>1</th>\n",
              "      <td>2049-02-13 13:17:49</td>\n",
              "      <td>350.0</td>\n",
              "      <td>50.866518</td>\n",
              "      <td>-0.087109</td>\n",
              "      <td>205.939654</td>\n",
              "    </tr>\n",
              "    <tr>\n",
              "      <th>2</th>\n",
              "      <td>2049-02-13 13:17:50</td>\n",
              "      <td>350.0</td>\n",
              "      <td>50.866518</td>\n",
              "      <td>-0.087109</td>\n",
              "      <td>205.939654</td>\n",
              "    </tr>\n",
              "    <tr>\n",
              "      <th>3</th>\n",
              "      <td>2049-02-13 13:17:51</td>\n",
              "      <td>350.0</td>\n",
              "      <td>50.866518</td>\n",
              "      <td>-0.087109</td>\n",
              "      <td>205.939654</td>\n",
              "    </tr>\n",
              "    <tr>\n",
              "      <th>4</th>\n",
              "      <td>2049-02-13 13:18:39</td>\n",
              "      <td>96.0</td>\n",
              "      <td>50.866653</td>\n",
              "      <td>-0.086119</td>\n",
              "      <td>103.944537</td>\n",
              "    </tr>\n",
              "  </tbody>\n",
              "</table style=\"display:inline\"></td></th>"
            ]
          },
          "metadata": {
            "tags": []
          }
        }
      ]
    },
    {
      "cell_type": "code",
      "metadata": {
        "colab": {
          "base_uri": "https://localhost:8080/"
        },
        "id": "vo9EKmGml9nS",
        "outputId": "56e3e786-55a0-42ce-9141-09a5d58094be"
      },
      "source": [
        "# Number of NaNs for each object\n",
        "location.isnull().sum(axis=1).head(15)"
      ],
      "execution_count": null,
      "outputs": [
        {
          "output_type": "execute_result",
          "data": {
            "text/plain": [
              "0     0\n",
              "1     0\n",
              "2     0\n",
              "3     0\n",
              "4     0\n",
              "5     0\n",
              "6     0\n",
              "7     0\n",
              "8     0\n",
              "9     0\n",
              "10    0\n",
              "11    0\n",
              "12    0\n",
              "13    0\n",
              "14    0\n",
              "dtype: int64"
            ]
          },
          "metadata": {
            "tags": []
          },
          "execution_count": 10
        }
      ]
    },
    {
      "cell_type": "code",
      "metadata": {
        "colab": {
          "base_uri": "https://localhost:8080/"
        },
        "id": "Ob7keKLro8qu",
        "outputId": "269e9ac7-b874-4e34-8eca-5e667fdd7537"
      },
      "source": [
        "# Number of NaNs for each column\n",
        "location.isnull().sum(axis=0).head()"
      ],
      "execution_count": null,
      "outputs": [
        {
          "output_type": "execute_result",
          "data": {
            "text/plain": [
              "Epoch Time    0\n",
              "Accuracy      0\n",
              "Latitude      0\n",
              "Longitude     0\n",
              "Altitude      0\n",
              "dtype: int64"
            ]
          },
          "metadata": {
            "tags": []
          },
          "execution_count": 11
        }
      ]
    },
    {
      "cell_type": "markdown",
      "metadata": {
        "id": "g3bovR22pZ8u"
      },
      "source": [
        "Location data have no NaN data"
      ]
    },
    {
      "cell_type": "markdown",
      "metadata": {
        "id": "epAOj9UwQZXe"
      },
      "source": [
        "## GPS Data"
      ]
    },
    {
      "cell_type": "code",
      "metadata": {
        "id": "rALo2ERqQGDn"
      },
      "source": [
        "modify_txt_file('/content/train/GPS.txt', col_no_to_remain=-1, has_new_line=\"\", delimiter=' ')\n",
        "modify_txt_file('/content/valid/GPS.txt', col_no_to_remain=-1, has_new_line=\"\", delimiter=' ')\n",
        "modify_txt_file('/content/test/GPS.txt', col_no_to_remain=-1, has_new_line=\"\", delimiter=' ')"
      ],
      "execution_count": null,
      "outputs": []
    },
    {
      "cell_type": "code",
      "metadata": {
        "id": "U_m09uD2R9BX"
      },
      "source": [
        "gps_train = pd.read_csv('/content/train/GPS_mod.txt', header=None, delimiter=';', names=['Epoch Time', 'nsatellite'])\n",
        "gps_valid = pd.read_csv('/content/valid/GPS_mod.txt', header=None, delimiter=';', names=['Epoch Time', 'nsatellite'])\n",
        "gps_test = pd.read_csv('/content/test/GPS_mod.txt', header=None, delimiter=';', names=['Epoch Time', 'nsatellite'])\n",
        "gps_train['Epoch Time'] = pd.to_datetime(gps_train['Epoch Time'], unit='ms').astype('datetime64[s]')\n",
        "gps_valid['Epoch Time'] = pd.to_datetime(gps_valid['Epoch Time'], unit='ms').astype('datetime64[s]')\n",
        "gps_test['Epoch Time'] = pd.to_datetime(gps_test['Epoch Time'], unit='ms').astype('datetime64[s]')\n",
        "gps = pd.concat([gps_train, gps_valid, gps_test], axis=0)"
      ],
      "execution_count": null,
      "outputs": []
    },
    {
      "cell_type": "code",
      "metadata": {
        "colab": {
          "base_uri": "https://localhost:8080/"
        },
        "id": "SZLdLQ_cSiks",
        "outputId": "0afa4e0c-2a44-4df1-f022-60b21db38694"
      },
      "source": [
        "print('Size of gps_train: ', gps_train.shape)\n",
        "print('Size of gps_valid: ', gps_valid.shape)\n",
        "print('Size of gps_test: ', gps_test.shape)\n",
        "print('Size of gps: ', gps.shape)"
      ],
      "execution_count": null,
      "outputs": [
        {
          "output_type": "stream",
          "text": [
            "Size of gps_train:  (1322749, 2)\n",
            "Size of gps_valid:  (157348, 2)\n",
            "Size of gps_test:  (781773, 2)\n",
            "Size of gps:  (2261870, 2)\n"
          ],
          "name": "stdout"
        }
      ]
    },
    {
      "cell_type": "code",
      "metadata": {
        "colab": {
          "base_uri": "https://localhost:8080/"
        },
        "id": "L6AJEqIcSxSR",
        "outputId": "657cc67f-1a99-464a-fcda-47fa7b4c8314"
      },
      "source": [
        "display_side_by_side(gps_train.head(), gps_valid.head(), gps_test.head(), titles=['gps_training', 'gps_valid', 'gps_test'])"
      ],
      "execution_count": null,
      "outputs": [
        {
          "output_type": "display_data",
          "data": {
            "text/html": [
              "<th style=\"text-align:center\"><td style=\"vertical-align:top\"><h2>gps_training</h2><table style=\"display:inline\" border=\"1\" class=\"dataframe\">\n",
              "  <thead>\n",
              "    <tr style=\"text-align: right;\">\n",
              "      <th></th>\n",
              "      <th>Epoch Time</th>\n",
              "      <th>nsatellite</th>\n",
              "    </tr>\n",
              "  </thead>\n",
              "  <tbody>\n",
              "    <tr>\n",
              "      <th>0</th>\n",
              "      <td>2017-03-25 08:35:24</td>\n",
              "      <td>2</td>\n",
              "    </tr>\n",
              "    <tr>\n",
              "      <th>1</th>\n",
              "      <td>2017-03-25 08:35:25</td>\n",
              "      <td>2</td>\n",
              "    </tr>\n",
              "    <tr>\n",
              "      <th>2</th>\n",
              "      <td>2017-03-25 08:35:26</td>\n",
              "      <td>2</td>\n",
              "    </tr>\n",
              "    <tr>\n",
              "      <th>3</th>\n",
              "      <td>2017-03-25 08:35:27</td>\n",
              "      <td>2</td>\n",
              "    </tr>\n",
              "    <tr>\n",
              "      <th>4</th>\n",
              "      <td>2017-03-25 08:35:28</td>\n",
              "      <td>2</td>\n",
              "    </tr>\n",
              "  </tbody>\n",
              "</table style=\"display:inline\"></td></th><th style=\"text-align:center\"><td style=\"vertical-align:top\"><h2>gps_valid</h2><table style=\"display:inline\" border=\"1\" class=\"dataframe\">\n",
              "  <thead>\n",
              "    <tr style=\"text-align: right;\">\n",
              "      <th></th>\n",
              "      <th>Epoch Time</th>\n",
              "      <th>nsatellite</th>\n",
              "    </tr>\n",
              "  </thead>\n",
              "  <tbody>\n",
              "    <tr>\n",
              "      <th>0</th>\n",
              "      <td>2017-06-14 07:48:16</td>\n",
              "      <td>0</td>\n",
              "    </tr>\n",
              "    <tr>\n",
              "      <th>1</th>\n",
              "      <td>2017-06-14 07:48:17</td>\n",
              "      <td>0</td>\n",
              "    </tr>\n",
              "    <tr>\n",
              "      <th>2</th>\n",
              "      <td>2017-06-14 07:48:17</td>\n",
              "      <td>1</td>\n",
              "    </tr>\n",
              "    <tr>\n",
              "      <th>3</th>\n",
              "      <td>2017-06-14 07:48:18</td>\n",
              "      <td>2</td>\n",
              "    </tr>\n",
              "    <tr>\n",
              "      <th>4</th>\n",
              "      <td>2017-06-14 07:48:19</td>\n",
              "      <td>3</td>\n",
              "    </tr>\n",
              "  </tbody>\n",
              "</table style=\"display:inline\"></td></th><th style=\"text-align:center\"><td style=\"vertical-align:top\"><h2>gps_test</h2><table style=\"display:inline\" border=\"1\" class=\"dataframe\">\n",
              "  <thead>\n",
              "    <tr style=\"text-align: right;\">\n",
              "      <th></th>\n",
              "      <th>Epoch Time</th>\n",
              "      <th>nsatellite</th>\n",
              "    </tr>\n",
              "  </thead>\n",
              "  <tbody>\n",
              "    <tr>\n",
              "      <th>0</th>\n",
              "      <td>2049-02-13 13:17:23</td>\n",
              "      <td>0</td>\n",
              "    </tr>\n",
              "    <tr>\n",
              "      <th>1</th>\n",
              "      <td>2049-02-13 13:17:24</td>\n",
              "      <td>0</td>\n",
              "    </tr>\n",
              "    <tr>\n",
              "      <th>2</th>\n",
              "      <td>2049-02-13 13:17:25</td>\n",
              "      <td>0</td>\n",
              "    </tr>\n",
              "    <tr>\n",
              "      <th>3</th>\n",
              "      <td>2049-02-13 13:17:26</td>\n",
              "      <td>1</td>\n",
              "    </tr>\n",
              "    <tr>\n",
              "      <th>4</th>\n",
              "      <td>2049-02-13 13:17:27</td>\n",
              "      <td>1</td>\n",
              "    </tr>\n",
              "  </tbody>\n",
              "</table style=\"display:inline\"></td></th>"
            ]
          },
          "metadata": {
            "tags": []
          }
        }
      ]
    },
    {
      "cell_type": "code",
      "metadata": {
        "colab": {
          "base_uri": "https://localhost:8080/"
        },
        "id": "0v3YA-IlnSON",
        "outputId": "fa192ebc-37e4-44fb-9956-808dd25f2990"
      },
      "source": [
        "# Number of NaNs for each object\n",
        "gps.isnull().sum(axis=1).head(15)"
      ],
      "execution_count": null,
      "outputs": [
        {
          "output_type": "execute_result",
          "data": {
            "text/plain": [
              "0     0\n",
              "1     0\n",
              "2     0\n",
              "3     0\n",
              "4     0\n",
              "5     0\n",
              "6     0\n",
              "7     0\n",
              "8     0\n",
              "9     0\n",
              "10    0\n",
              "11    0\n",
              "12    0\n",
              "13    0\n",
              "14    0\n",
              "dtype: int64"
            ]
          },
          "metadata": {
            "tags": []
          },
          "execution_count": 16
        }
      ]
    },
    {
      "cell_type": "code",
      "metadata": {
        "colab": {
          "base_uri": "https://localhost:8080/"
        },
        "id": "e6FrwfIInTO5",
        "outputId": "3902bdbc-0435-419f-e59b-9d9e25224d25"
      },
      "source": [
        "# Number of NaNs for each column\n",
        "gps.isnull().sum(axis=0).head()"
      ],
      "execution_count": null,
      "outputs": [
        {
          "output_type": "execute_result",
          "data": {
            "text/plain": [
              "Epoch Time    0\n",
              "nsatellite    0\n",
              "dtype: int64"
            ]
          },
          "metadata": {
            "tags": []
          },
          "execution_count": 17
        }
      ]
    },
    {
      "cell_type": "markdown",
      "metadata": {
        "id": "6_pKcPzkqAAB"
      },
      "source": [
        "GPS data have no NaN"
      ]
    },
    {
      "cell_type": "markdown",
      "metadata": {
        "id": "y-ead-L_TjHE"
      },
      "source": [
        "## WiFi Data"
      ]
    },
    {
      "cell_type": "code",
      "metadata": {
        "id": "fuJwgliwNuSB"
      },
      "source": [
        "modify_txt_file('/content/train/WiFi.txt', col_no_to_remain=3, has_new_line='\\n')\n",
        "modify_txt_file('/content/valid/WiFi.txt', col_no_to_remain=3, has_new_line='\\n')\n",
        "modify_txt_file('/content/test/WiFi.txt', col_no_to_remain=3, has_new_line='\\n')"
      ],
      "execution_count": null,
      "outputs": []
    },
    {
      "cell_type": "code",
      "metadata": {
        "id": "upavRApGOtzJ"
      },
      "source": [
        "wifi_train = pd.read_csv('/content/train/WiFi_mod.txt', header=None, delimiter=';', names=['Epoch Time', 'nwifi'])\n",
        "wifi_valid = pd.read_csv('/content/valid/WiFi_mod.txt', header=None, delimiter=';', names=['Epoch Time', 'nwifi'])\n",
        "wifi_test = pd.read_csv('/content/test/WiFi_mod.txt', header=None, delimiter=';', names=['Epoch Time', 'nwifi'])\n",
        "wifi_train['Epoch Time'] = pd.to_datetime(wifi_train['Epoch Time'], unit='ms').astype('datetime64[s]')\n",
        "wifi_valid['Epoch Time'] = pd.to_datetime(wifi_valid['Epoch Time'], unit='ms').astype('datetime64[s]')\n",
        "wifi_test['Epoch Time'] = pd.to_datetime(wifi_test['Epoch Time'], unit='ms').astype('datetime64[s]')\n",
        "wifi = pd.concat([wifi_train, wifi_valid, wifi_test], axis=0)"
      ],
      "execution_count": null,
      "outputs": []
    },
    {
      "cell_type": "code",
      "metadata": {
        "colab": {
          "base_uri": "https://localhost:8080/"
        },
        "id": "04pdhPGFPbnb",
        "outputId": "c649689c-b94d-4b84-ad23-539901739eeb"
      },
      "source": [
        "print('Size of wifi_tarin: ', wifi_train.shape)\n",
        "print('Size of wifi_valid: ', wifi_valid.shape)\n",
        "print('Size of wifi_test: ', wifi_test.shape)\n",
        "print('Size of wifi: ', wifi.shape)"
      ],
      "execution_count": null,
      "outputs": [
        {
          "output_type": "stream",
          "text": [
            "Size of wifi_tarin:  (1459351, 2)\n",
            "Size of wifi_valid:  (158681, 2)\n",
            "Size of wifi_test:  (771855, 2)\n",
            "Size of wifi:  (2389887, 2)\n"
          ],
          "name": "stdout"
        }
      ]
    },
    {
      "cell_type": "code",
      "metadata": {
        "colab": {
          "base_uri": "https://localhost:8080/"
        },
        "id": "w8kT_aE25RJX",
        "outputId": "8cb6de32-bc36-4826-dc17-6a17527b2dee"
      },
      "source": [
        "display_side_by_side(wifi_train.head(), wifi_valid.head(), wifi_test.head(), titles=['wifi_train', 'wifi_valid', 'wifi_test'])"
      ],
      "execution_count": null,
      "outputs": [
        {
          "output_type": "display_data",
          "data": {
            "text/html": [
              "<th style=\"text-align:center\"><td style=\"vertical-align:top\"><h2>wifi_train</h2><table style=\"display:inline\" border=\"1\" class=\"dataframe\">\n",
              "  <thead>\n",
              "    <tr style=\"text-align: right;\">\n",
              "      <th></th>\n",
              "      <th>Epoch Time</th>\n",
              "      <th>nwifi</th>\n",
              "    </tr>\n",
              "  </thead>\n",
              "  <tbody>\n",
              "    <tr>\n",
              "      <th>0</th>\n",
              "      <td>2017-03-25 08:35:23</td>\n",
              "      <td>10</td>\n",
              "    </tr>\n",
              "    <tr>\n",
              "      <th>1</th>\n",
              "      <td>2017-03-25 08:35:24</td>\n",
              "      <td>10</td>\n",
              "    </tr>\n",
              "    <tr>\n",
              "      <th>2</th>\n",
              "      <td>2017-03-25 08:35:25</td>\n",
              "      <td>10</td>\n",
              "    </tr>\n",
              "    <tr>\n",
              "      <th>3</th>\n",
              "      <td>2017-03-25 08:35:26</td>\n",
              "      <td>10</td>\n",
              "    </tr>\n",
              "    <tr>\n",
              "      <th>4</th>\n",
              "      <td>2017-03-25 08:35:27</td>\n",
              "      <td>10</td>\n",
              "    </tr>\n",
              "  </tbody>\n",
              "</table style=\"display:inline\"></td></th><th style=\"text-align:center\"><td style=\"vertical-align:top\"><h2>wifi_valid</h2><table style=\"display:inline\" border=\"1\" class=\"dataframe\">\n",
              "  <thead>\n",
              "    <tr style=\"text-align: right;\">\n",
              "      <th></th>\n",
              "      <th>Epoch Time</th>\n",
              "      <th>nwifi</th>\n",
              "    </tr>\n",
              "  </thead>\n",
              "  <tbody>\n",
              "    <tr>\n",
              "      <th>0</th>\n",
              "      <td>2017-06-14 07:48:15</td>\n",
              "      <td>11</td>\n",
              "    </tr>\n",
              "    <tr>\n",
              "      <th>1</th>\n",
              "      <td>2017-06-14 07:48:16</td>\n",
              "      <td>11</td>\n",
              "    </tr>\n",
              "    <tr>\n",
              "      <th>2</th>\n",
              "      <td>2017-06-14 07:48:17</td>\n",
              "      <td>11</td>\n",
              "    </tr>\n",
              "    <tr>\n",
              "      <th>3</th>\n",
              "      <td>2017-06-14 07:48:18</td>\n",
              "      <td>11</td>\n",
              "    </tr>\n",
              "    <tr>\n",
              "      <th>4</th>\n",
              "      <td>2017-06-14 07:48:19</td>\n",
              "      <td>11</td>\n",
              "    </tr>\n",
              "  </tbody>\n",
              "</table style=\"display:inline\"></td></th><th style=\"text-align:center\"><td style=\"vertical-align:top\"><h2>wifi_test</h2><table style=\"display:inline\" border=\"1\" class=\"dataframe\">\n",
              "  <thead>\n",
              "    <tr style=\"text-align: right;\">\n",
              "      <th></th>\n",
              "      <th>Epoch Time</th>\n",
              "      <th>nwifi</th>\n",
              "    </tr>\n",
              "  </thead>\n",
              "  <tbody>\n",
              "    <tr>\n",
              "      <th>0</th>\n",
              "      <td>2049-02-13 13:17:22</td>\n",
              "      <td>6</td>\n",
              "    </tr>\n",
              "    <tr>\n",
              "      <th>1</th>\n",
              "      <td>2049-02-13 13:17:23</td>\n",
              "      <td>6</td>\n",
              "    </tr>\n",
              "    <tr>\n",
              "      <th>2</th>\n",
              "      <td>2049-02-13 13:17:24</td>\n",
              "      <td>6</td>\n",
              "    </tr>\n",
              "    <tr>\n",
              "      <th>3</th>\n",
              "      <td>2049-02-13 13:17:25</td>\n",
              "      <td>6</td>\n",
              "    </tr>\n",
              "    <tr>\n",
              "      <th>4</th>\n",
              "      <td>2049-02-13 13:17:26</td>\n",
              "      <td>6</td>\n",
              "    </tr>\n",
              "  </tbody>\n",
              "</table style=\"display:inline\"></td></th>"
            ]
          },
          "metadata": {
            "tags": []
          }
        }
      ]
    },
    {
      "cell_type": "code",
      "metadata": {
        "colab": {
          "base_uri": "https://localhost:8080/"
        },
        "id": "PU2jFxWjqKoW",
        "outputId": "ec40dea8-9ae6-4a41-c4db-e079b964c944"
      },
      "source": [
        "# Number of NaNs for each object\n",
        "wifi.isnull().sum(axis=1).head(15)"
      ],
      "execution_count": null,
      "outputs": [
        {
          "output_type": "execute_result",
          "data": {
            "text/plain": [
              "0     0\n",
              "1     0\n",
              "2     0\n",
              "3     0\n",
              "4     0\n",
              "5     0\n",
              "6     0\n",
              "7     0\n",
              "8     0\n",
              "9     0\n",
              "10    0\n",
              "11    0\n",
              "12    0\n",
              "13    0\n",
              "14    0\n",
              "dtype: int64"
            ]
          },
          "metadata": {
            "tags": []
          },
          "execution_count": 22
        }
      ]
    },
    {
      "cell_type": "code",
      "metadata": {
        "colab": {
          "base_uri": "https://localhost:8080/"
        },
        "id": "ddfYFsQdqL2K",
        "outputId": "a6f55894-c136-404f-f1c0-eb1c0b21da75"
      },
      "source": [
        "# Number of NaNs for each column\n",
        "wifi.isnull().sum(axis=0).head()"
      ],
      "execution_count": null,
      "outputs": [
        {
          "output_type": "execute_result",
          "data": {
            "text/plain": [
              "Epoch Time    0\n",
              "nwifi         0\n",
              "dtype: int64"
            ]
          },
          "metadata": {
            "tags": []
          },
          "execution_count": 23
        }
      ]
    },
    {
      "cell_type": "markdown",
      "metadata": {
        "id": "DsdwlO4Bq6N5"
      },
      "source": [
        "WiFi data have no NaN"
      ]
    },
    {
      "cell_type": "markdown",
      "metadata": {
        "id": "ZkkoTPF1Uj8N"
      },
      "source": [
        "## Cell Data"
      ]
    },
    {
      "cell_type": "code",
      "metadata": {
        "id": "TUbRp8-rQAO0"
      },
      "source": [
        "modify_txt_file('/content/train/Cells.txt', col_no_to_remain=3, has_new_line='\\n', delimiter=' ')\n",
        "modify_txt_file('/content/valid/Cells.txt', col_no_to_remain=3, has_new_line='\\n', delimiter=' ')\n",
        "modify_txt_file('/content/test/Cells.txt', col_no_to_remain=3, has_new_line='\\n', delimiter=' ')"
      ],
      "execution_count": null,
      "outputs": []
    },
    {
      "cell_type": "code",
      "metadata": {
        "id": "lyi9-MskU-lJ"
      },
      "source": [
        "cell_train = pd.read_csv('/content/train/Cells_mod.txt', header=None, delimiter=';', names=['Epoch Time', 'ncell'])\n",
        "cell_valid = pd.read_csv('/content/valid/Cells_mod.txt', header=None, delimiter=';', names=['Epoch Time', 'ncell'])\n",
        "cell_test = pd.read_csv('/content/test/Cells_mod.txt', header=None, delimiter=';', names=['Epoch Time', 'ncell'])\n",
        "cell_train['Epoch Time'] = pd.to_datetime(cell_train['Epoch Time'], unit='ms').astype('datetime64[s]')\n",
        "cell_valid['Epoch Time'] = pd.to_datetime(cell_valid['Epoch Time'], unit='ms').astype('datetime64[s]')\n",
        "cell_test['Epoch Time'] = pd.to_datetime(cell_test['Epoch Time'], unit='ms').astype('datetime64[s]')\n",
        "cell = pd.concat([cell_train, cell_valid, cell_test], axis=0)"
      ],
      "execution_count": null,
      "outputs": []
    },
    {
      "cell_type": "code",
      "metadata": {
        "colab": {
          "base_uri": "https://localhost:8080/"
        },
        "id": "YBmuF9ElV1bq",
        "outputId": "ddd37a98-15b9-4a77-a1aa-8c007a0e5127"
      },
      "source": [
        "print('Size cell_train: ', cell_train.shape)\n",
        "print('Size cell_valid: ', cell_valid.shape)\n",
        "print('Size cell_test: ', cell_test.shape)\n",
        "print('Size of cell: ', cell.shape)"
      ],
      "execution_count": null,
      "outputs": [
        {
          "output_type": "stream",
          "text": [
            "Size cell_train:  (1324881, 2)\n",
            "Size cell_valid:  (126333, 2)\n",
            "Size cell_test:  (561369, 2)\n",
            "Size of cell:  (2012583, 2)\n"
          ],
          "name": "stdout"
        }
      ]
    },
    {
      "cell_type": "code",
      "metadata": {
        "colab": {
          "base_uri": "https://localhost:8080/"
        },
        "id": "5C9E1oE-WC4L",
        "outputId": "012cffd3-abf7-4fd7-ae10-4600d9046280"
      },
      "source": [
        "display_side_by_side(cell_train.head(), cell_valid.head(), cell_test.head(), titles=['cell_train', 'cell_valid', 'cell_test'])"
      ],
      "execution_count": null,
      "outputs": [
        {
          "output_type": "display_data",
          "data": {
            "text/html": [
              "<th style=\"text-align:center\"><td style=\"vertical-align:top\"><h2>cell_train</h2><table style=\"display:inline\" border=\"1\" class=\"dataframe\">\n",
              "  <thead>\n",
              "    <tr style=\"text-align: right;\">\n",
              "      <th></th>\n",
              "      <th>Epoch Time</th>\n",
              "      <th>ncell</th>\n",
              "    </tr>\n",
              "  </thead>\n",
              "  <tbody>\n",
              "    <tr>\n",
              "      <th>0</th>\n",
              "      <td>2017-03-25 08:35:23</td>\n",
              "      <td>3</td>\n",
              "    </tr>\n",
              "    <tr>\n",
              "      <th>1</th>\n",
              "      <td>2017-03-25 08:35:23</td>\n",
              "      <td>3</td>\n",
              "    </tr>\n",
              "    <tr>\n",
              "      <th>2</th>\n",
              "      <td>2017-03-25 08:35:47</td>\n",
              "      <td>13</td>\n",
              "    </tr>\n",
              "    <tr>\n",
              "      <th>3</th>\n",
              "      <td>2017-03-25 08:35:53</td>\n",
              "      <td>3</td>\n",
              "    </tr>\n",
              "    <tr>\n",
              "      <th>4</th>\n",
              "      <td>2017-03-25 08:35:58</td>\n",
              "      <td>3</td>\n",
              "    </tr>\n",
              "  </tbody>\n",
              "</table style=\"display:inline\"></td></th><th style=\"text-align:center\"><td style=\"vertical-align:top\"><h2>cell_valid</h2><table style=\"display:inline\" border=\"1\" class=\"dataframe\">\n",
              "  <thead>\n",
              "    <tr style=\"text-align: right;\">\n",
              "      <th></th>\n",
              "      <th>Epoch Time</th>\n",
              "      <th>ncell</th>\n",
              "    </tr>\n",
              "  </thead>\n",
              "  <tbody>\n",
              "    <tr>\n",
              "      <th>0</th>\n",
              "      <td>2017-06-14 07:48:15</td>\n",
              "      <td>4</td>\n",
              "    </tr>\n",
              "    <tr>\n",
              "      <th>1</th>\n",
              "      <td>2017-06-14 07:48:15</td>\n",
              "      <td>4</td>\n",
              "    </tr>\n",
              "    <tr>\n",
              "      <th>2</th>\n",
              "      <td>2017-06-14 07:48:19</td>\n",
              "      <td>1</td>\n",
              "    </tr>\n",
              "    <tr>\n",
              "      <th>3</th>\n",
              "      <td>2017-06-14 07:48:25</td>\n",
              "      <td>4</td>\n",
              "    </tr>\n",
              "    <tr>\n",
              "      <th>4</th>\n",
              "      <td>2017-06-14 07:48:29</td>\n",
              "      <td>5</td>\n",
              "    </tr>\n",
              "  </tbody>\n",
              "</table style=\"display:inline\"></td></th><th style=\"text-align:center\"><td style=\"vertical-align:top\"><h2>cell_test</h2><table style=\"display:inline\" border=\"1\" class=\"dataframe\">\n",
              "  <thead>\n",
              "    <tr style=\"text-align: right;\">\n",
              "      <th></th>\n",
              "      <th>Epoch Time</th>\n",
              "      <th>ncell</th>\n",
              "    </tr>\n",
              "  </thead>\n",
              "  <tbody>\n",
              "    <tr>\n",
              "      <th>0</th>\n",
              "      <td>2049-02-13 13:17:22</td>\n",
              "      <td>1</td>\n",
              "    </tr>\n",
              "    <tr>\n",
              "      <th>1</th>\n",
              "      <td>2049-02-13 13:17:22</td>\n",
              "      <td>1</td>\n",
              "    </tr>\n",
              "    <tr>\n",
              "      <th>2</th>\n",
              "      <td>2049-02-13 16:17:57</td>\n",
              "      <td>1</td>\n",
              "    </tr>\n",
              "    <tr>\n",
              "      <th>3</th>\n",
              "      <td>2049-02-13 16:17:57</td>\n",
              "      <td>1</td>\n",
              "    </tr>\n",
              "    <tr>\n",
              "      <th>4</th>\n",
              "      <td>2049-02-15 09:36:14</td>\n",
              "      <td>1</td>\n",
              "    </tr>\n",
              "  </tbody>\n",
              "</table style=\"display:inline\"></td></th>"
            ]
          },
          "metadata": {
            "tags": []
          }
        }
      ]
    },
    {
      "cell_type": "code",
      "metadata": {
        "colab": {
          "base_uri": "https://localhost:8080/"
        },
        "id": "MYawz7rYrD1q",
        "outputId": "9e2e3a06-4333-46d4-cf06-e505042e18d8"
      },
      "source": [
        "# Number of NaNs for each object\n",
        "cell.isnull().sum(axis=1).head(15)"
      ],
      "execution_count": null,
      "outputs": [
        {
          "output_type": "execute_result",
          "data": {
            "text/plain": [
              "0     0\n",
              "1     0\n",
              "2     0\n",
              "3     0\n",
              "4     0\n",
              "5     0\n",
              "6     0\n",
              "7     0\n",
              "8     0\n",
              "9     0\n",
              "10    0\n",
              "11    0\n",
              "12    0\n",
              "13    0\n",
              "14    0\n",
              "dtype: int64"
            ]
          },
          "metadata": {
            "tags": []
          },
          "execution_count": 28
        }
      ]
    },
    {
      "cell_type": "code",
      "metadata": {
        "colab": {
          "base_uri": "https://localhost:8080/"
        },
        "id": "Zapdd0OUrL6s",
        "outputId": "da045bdb-bf32-4300-f956-01e50840ee2c"
      },
      "source": [
        "# Number of NaNs for each column\n",
        "cell.isnull().sum(axis=0).head()"
      ],
      "execution_count": null,
      "outputs": [
        {
          "output_type": "execute_result",
          "data": {
            "text/plain": [
              "Epoch Time    0\n",
              "ncell         0\n",
              "dtype: int64"
            ]
          },
          "metadata": {
            "tags": []
          },
          "execution_count": 29
        }
      ]
    },
    {
      "cell_type": "markdown",
      "metadata": {
        "id": "QjOUefOzrlL_"
      },
      "source": [
        "Cell data have no NaN"
      ]
    },
    {
      "cell_type": "markdown",
      "metadata": {
        "id": "F_95a-jSW5Xa"
      },
      "source": [
        "## Label Data"
      ]
    },
    {
      "cell_type": "code",
      "metadata": {
        "id": "rR0F6rlUW7jn"
      },
      "source": [
        "label_train = pd.read_csv('/content/train/Label.txt', header=None, delimiter='\\t', names=['Epoch Time', 'Label'])\n",
        "label_valid = pd.read_csv('/content/valid/Label.txt', header=None, delimiter='\\t', names=['Epoch Time', 'Label'])\n",
        "label_idx = pd.read_csv('/content/test/Label_idx.txt', header=None, delimiter='\\n', names=['Epoch Time'])\n",
        "label_train['Epoch Time'] = pd.to_datetime(label_train['Epoch Time'], unit='ms').astype('datetime64[s]')\n",
        "label_valid['Epoch Time'] = pd.to_datetime(label_valid['Epoch Time'], unit='ms').astype('datetime64[s]')\n",
        "label_idx['Epoch Time'] = pd.to_datetime(label_idx['Epoch Time'], unit='ms').astype('datetime64[s]')\n",
        "label = pd.concat([label_train, label_train], axis = 0)"
      ],
      "execution_count": null,
      "outputs": []
    },
    {
      "cell_type": "code",
      "metadata": {
        "colab": {
          "base_uri": "https://localhost:8080/"
        },
        "id": "tIWbsxmwXouU",
        "outputId": "7eab88ab-7df8-4081-c713-0f29da84896b"
      },
      "source": [
        "print('Size of label_train: ', label_train.shape)\n",
        "print('Size of label_valid: ', label_valid.shape)\n",
        "print('Size of label_idx: ', label_idx.shape)\n",
        "print('Size of label: ', label.shape)"
      ],
      "execution_count": null,
      "outputs": [
        {
          "output_type": "stream",
          "text": [
            "Size of label_train:  (980527, 2)\n",
            "Size of label_valid:  (143958, 2)\n",
            "Size of label_idx:  (671172, 1)\n",
            "Size of label:  (1961054, 2)\n"
          ],
          "name": "stdout"
        }
      ]
    },
    {
      "cell_type": "code",
      "metadata": {
        "colab": {
          "base_uri": "https://localhost:8080/"
        },
        "id": "EM7-cil2XTtv",
        "outputId": "cc14f0c7-5d24-43b9-f07f-e5bea8cd05ee"
      },
      "source": [
        "display_side_by_side(label_train.head(), label_valid.head(), titles=['label_train', 'label_valid'])"
      ],
      "execution_count": null,
      "outputs": [
        {
          "output_type": "display_data",
          "data": {
            "text/html": [
              "<th style=\"text-align:center\"><td style=\"vertical-align:top\"><h2>label_train</h2><table style=\"display:inline\" border=\"1\" class=\"dataframe\">\n",
              "  <thead>\n",
              "    <tr style=\"text-align: right;\">\n",
              "      <th></th>\n",
              "      <th>Epoch Time</th>\n",
              "      <th>Label</th>\n",
              "    </tr>\n",
              "  </thead>\n",
              "  <tbody>\n",
              "    <tr>\n",
              "      <th>0</th>\n",
              "      <td>2017-03-25 08:46:23</td>\n",
              "      <td>4</td>\n",
              "    </tr>\n",
              "    <tr>\n",
              "      <th>1</th>\n",
              "      <td>2017-03-25 08:46:24</td>\n",
              "      <td>4</td>\n",
              "    </tr>\n",
              "    <tr>\n",
              "      <th>2</th>\n",
              "      <td>2017-03-25 08:46:25</td>\n",
              "      <td>4</td>\n",
              "    </tr>\n",
              "    <tr>\n",
              "      <th>3</th>\n",
              "      <td>2017-03-25 08:46:26</td>\n",
              "      <td>4</td>\n",
              "    </tr>\n",
              "    <tr>\n",
              "      <th>4</th>\n",
              "      <td>2017-03-25 08:46:27</td>\n",
              "      <td>4</td>\n",
              "    </tr>\n",
              "  </tbody>\n",
              "</table style=\"display:inline\"></td></th><th style=\"text-align:center\"><td style=\"vertical-align:top\"><h2>label_valid</h2><table style=\"display:inline\" border=\"1\" class=\"dataframe\">\n",
              "  <thead>\n",
              "    <tr style=\"text-align: right;\">\n",
              "      <th></th>\n",
              "      <th>Epoch Time</th>\n",
              "      <th>Label</th>\n",
              "    </tr>\n",
              "  </thead>\n",
              "  <tbody>\n",
              "    <tr>\n",
              "      <th>0</th>\n",
              "      <td>2017-06-14 08:04:52</td>\n",
              "      <td>3</td>\n",
              "    </tr>\n",
              "    <tr>\n",
              "      <th>1</th>\n",
              "      <td>2017-06-14 08:04:53</td>\n",
              "      <td>3</td>\n",
              "    </tr>\n",
              "    <tr>\n",
              "      <th>2</th>\n",
              "      <td>2017-06-14 08:04:54</td>\n",
              "      <td>3</td>\n",
              "    </tr>\n",
              "    <tr>\n",
              "      <th>3</th>\n",
              "      <td>2017-06-14 08:04:55</td>\n",
              "      <td>3</td>\n",
              "    </tr>\n",
              "    <tr>\n",
              "      <th>4</th>\n",
              "      <td>2017-06-14 08:04:56</td>\n",
              "      <td>3</td>\n",
              "    </tr>\n",
              "  </tbody>\n",
              "</table style=\"display:inline\"></td></th>"
            ]
          },
          "metadata": {
            "tags": []
          }
        }
      ]
    },
    {
      "cell_type": "code",
      "metadata": {
        "colab": {
          "base_uri": "https://localhost:8080/"
        },
        "id": "fEsGiLvVr0gF",
        "outputId": "1f9201c0-32ad-4cd9-f25a-28789b9c62f3"
      },
      "source": [
        "# Number of NaNs for each object\n",
        "label.isnull().sum(axis=1).head(15)"
      ],
      "execution_count": null,
      "outputs": [
        {
          "output_type": "execute_result",
          "data": {
            "text/plain": [
              "0     0\n",
              "1     0\n",
              "2     0\n",
              "3     0\n",
              "4     0\n",
              "5     0\n",
              "6     0\n",
              "7     0\n",
              "8     0\n",
              "9     0\n",
              "10    0\n",
              "11    0\n",
              "12    0\n",
              "13    0\n",
              "14    0\n",
              "dtype: int64"
            ]
          },
          "metadata": {
            "tags": []
          },
          "execution_count": 33
        }
      ]
    },
    {
      "cell_type": "code",
      "metadata": {
        "colab": {
          "base_uri": "https://localhost:8080/"
        },
        "id": "4jXRHlIKr1WH",
        "outputId": "5b7e0ac2-c8cd-4ad8-c58d-95df38afd1da"
      },
      "source": [
        "# Number of NaNs for each column\n",
        "label.isnull().sum(axis=0).head()"
      ],
      "execution_count": null,
      "outputs": [
        {
          "output_type": "execute_result",
          "data": {
            "text/plain": [
              "Epoch Time    0\n",
              "Label         0\n",
              "dtype: int64"
            ]
          },
          "metadata": {
            "tags": []
          },
          "execution_count": 34
        }
      ]
    },
    {
      "cell_type": "markdown",
      "metadata": {
        "id": "g6m4tslosc2c"
      },
      "source": [
        "Label data have no NaN"
      ]
    },
    {
      "cell_type": "markdown",
      "metadata": {
        "id": "VQdj87dIfVeR"
      },
      "source": [
        "# Advanced Dataset Exploration"
      ]
    },
    {
      "cell_type": "markdown",
      "metadata": {
        "id": "cELzbpxsfcNS"
      },
      "source": [
        "## Location Data"
      ]
    },
    {
      "cell_type": "code",
      "metadata": {
        "colab": {
          "base_uri": "https://localhost:8080/"
        },
        "id": "w8bZrVnkKOz2",
        "outputId": "6194846f-1cf1-40aa-c011-12431cb2dfdc"
      },
      "source": [
        "display_side_by_side(location_train.describe(), location_valid.describe(), location_test.describe(), titles=['Train', 'Validation', 'Test'])"
      ],
      "execution_count": null,
      "outputs": [
        {
          "output_type": "display_data",
          "data": {
            "text/html": [
              "<th style=\"text-align:center\"><td style=\"vertical-align:top\"><h2>Train</h2><table style=\"display:inline\" border=\"1\" class=\"dataframe\">\n",
              "  <thead>\n",
              "    <tr style=\"text-align: right;\">\n",
              "      <th></th>\n",
              "      <th>Accuracy</th>\n",
              "      <th>Latitude</th>\n",
              "      <th>Longitude</th>\n",
              "      <th>Altitude</th>\n",
              "    </tr>\n",
              "  </thead>\n",
              "  <tbody>\n",
              "    <tr>\n",
              "      <th>count</th>\n",
              "      <td>911109.000000</td>\n",
              "      <td>911109.000000</td>\n",
              "      <td>911109.000000</td>\n",
              "      <td>911109.000000</td>\n",
              "    </tr>\n",
              "    <tr>\n",
              "      <th>mean</th>\n",
              "      <td>11.276893</td>\n",
              "      <td>51.025183</td>\n",
              "      <td>-0.182878</td>\n",
              "      <td>115.062078</td>\n",
              "    </tr>\n",
              "    <tr>\n",
              "      <th>std</th>\n",
              "      <td>14.996484</td>\n",
              "      <td>0.402211</td>\n",
              "      <td>0.397163</td>\n",
              "      <td>85.287095</td>\n",
              "    </tr>\n",
              "    <tr>\n",
              "      <th>min</th>\n",
              "      <td>2.000000</td>\n",
              "      <td>50.737946</td>\n",
              "      <td>-2.980204</td>\n",
              "      <td>-643.297744</td>\n",
              "    </tr>\n",
              "    <tr>\n",
              "      <th>25%</th>\n",
              "      <td>6.000000</td>\n",
              "      <td>50.836309</td>\n",
              "      <td>-0.170117</td>\n",
              "      <td>78.022516</td>\n",
              "    </tr>\n",
              "    <tr>\n",
              "      <th>50%</th>\n",
              "      <td>8.000000</td>\n",
              "      <td>50.850591</td>\n",
              "      <td>-0.133547</td>\n",
              "      <td>106.818509</td>\n",
              "    </tr>\n",
              "    <tr>\n",
              "      <th>75%</th>\n",
              "      <td>13.250500</td>\n",
              "      <td>51.035756</td>\n",
              "      <td>-0.113220</td>\n",
              "      <td>134.176102</td>\n",
              "    </tr>\n",
              "    <tr>\n",
              "      <th>max</th>\n",
              "      <td>400.000000</td>\n",
              "      <td>53.494279</td>\n",
              "      <td>1.056981</td>\n",
              "      <td>7951.600681</td>\n",
              "    </tr>\n",
              "  </tbody>\n",
              "</table style=\"display:inline\"></td></th><th style=\"text-align:center\"><td style=\"vertical-align:top\"><h2>Validation</h2><table style=\"display:inline\" border=\"1\" class=\"dataframe\">\n",
              "  <thead>\n",
              "    <tr style=\"text-align: right;\">\n",
              "      <th></th>\n",
              "      <th>Accuracy</th>\n",
              "      <th>Latitude</th>\n",
              "      <th>Longitude</th>\n",
              "      <th>Altitude</th>\n",
              "    </tr>\n",
              "  </thead>\n",
              "  <tbody>\n",
              "    <tr>\n",
              "      <th>count</th>\n",
              "      <td>101524.000000</td>\n",
              "      <td>101524.000000</td>\n",
              "      <td>101524.000000</td>\n",
              "      <td>101524.000000</td>\n",
              "    </tr>\n",
              "    <tr>\n",
              "      <th>mean</th>\n",
              "      <td>13.112828</td>\n",
              "      <td>50.927240</td>\n",
              "      <td>0.124059</td>\n",
              "      <td>82.867956</td>\n",
              "    </tr>\n",
              "    <tr>\n",
              "      <th>std</th>\n",
              "      <td>12.018315</td>\n",
              "      <td>0.192991</td>\n",
              "      <td>0.364441</td>\n",
              "      <td>32.246452</td>\n",
              "    </tr>\n",
              "    <tr>\n",
              "      <th>min</th>\n",
              "      <td>2.000000</td>\n",
              "      <td>50.769645</td>\n",
              "      <td>-0.381819</td>\n",
              "      <td>-384.073532</td>\n",
              "    </tr>\n",
              "    <tr>\n",
              "      <th>25%</th>\n",
              "      <td>6.000000</td>\n",
              "      <td>50.825701</td>\n",
              "      <td>-0.123565</td>\n",
              "      <td>60.857367</td>\n",
              "    </tr>\n",
              "    <tr>\n",
              "      <th>50%</th>\n",
              "      <td>12.000000</td>\n",
              "      <td>50.850566</td>\n",
              "      <td>-0.008820</td>\n",
              "      <td>76.003282</td>\n",
              "    </tr>\n",
              "    <tr>\n",
              "      <th>75%</th>\n",
              "      <td>16.000000</td>\n",
              "      <td>50.927449</td>\n",
              "      <td>0.281519</td>\n",
              "      <td>96.424520</td>\n",
              "    </tr>\n",
              "    <tr>\n",
              "      <th>max</th>\n",
              "      <td>400.000000</td>\n",
              "      <td>51.603730</td>\n",
              "      <td>0.977293</td>\n",
              "      <td>963.507446</td>\n",
              "    </tr>\n",
              "  </tbody>\n",
              "</table style=\"display:inline\"></td></th><th style=\"text-align:center\"><td style=\"vertical-align:top\"><h2>Test</h2><table style=\"display:inline\" border=\"1\" class=\"dataframe\">\n",
              "  <thead>\n",
              "    <tr style=\"text-align: right;\">\n",
              "      <th></th>\n",
              "      <th>Accuracy</th>\n",
              "      <th>Latitude</th>\n",
              "      <th>Longitude</th>\n",
              "      <th>Altitude</th>\n",
              "    </tr>\n",
              "  </thead>\n",
              "  <tbody>\n",
              "    <tr>\n",
              "      <th>count</th>\n",
              "      <td>562565.000000</td>\n",
              "      <td>562565.000000</td>\n",
              "      <td>562565.000000</td>\n",
              "      <td>562565.000000</td>\n",
              "    </tr>\n",
              "    <tr>\n",
              "      <th>mean</th>\n",
              "      <td>14.046797</td>\n",
              "      <td>50.935547</td>\n",
              "      <td>-0.005255</td>\n",
              "      <td>95.172694</td>\n",
              "    </tr>\n",
              "    <tr>\n",
              "      <th>std</th>\n",
              "      <td>10.716127</td>\n",
              "      <td>0.202159</td>\n",
              "      <td>0.297348</td>\n",
              "      <td>67.318876</td>\n",
              "    </tr>\n",
              "    <tr>\n",
              "      <th>min</th>\n",
              "      <td>2.000000</td>\n",
              "      <td>50.736817</td>\n",
              "      <td>-0.939760</td>\n",
              "      <td>-308.113556</td>\n",
              "    </tr>\n",
              "    <tr>\n",
              "      <th>25%</th>\n",
              "      <td>8.000000</td>\n",
              "      <td>50.826181</td>\n",
              "      <td>-0.136812</td>\n",
              "      <td>66.261831</td>\n",
              "    </tr>\n",
              "    <tr>\n",
              "      <th>50%</th>\n",
              "      <td>12.000000</td>\n",
              "      <td>50.835757</td>\n",
              "      <td>-0.119708</td>\n",
              "      <td>86.435211</td>\n",
              "    </tr>\n",
              "    <tr>\n",
              "      <th>75%</th>\n",
              "      <td>16.000000</td>\n",
              "      <td>50.890817</td>\n",
              "      <td>0.013859</td>\n",
              "      <td>116.901756</td>\n",
              "    </tr>\n",
              "    <tr>\n",
              "      <th>max</th>\n",
              "      <td>400.000000</td>\n",
              "      <td>51.619891</td>\n",
              "      <td>1.241499</td>\n",
              "      <td>3036.768063</td>\n",
              "    </tr>\n",
              "  </tbody>\n",
              "</table style=\"display:inline\"></td></th>"
            ]
          },
          "metadata": {
            "tags": []
          }
        }
      ]
    },
    {
      "cell_type": "code",
      "metadata": {
        "colab": {
          "base_uri": "https://localhost:8080/"
        },
        "id": "5ssMsPoLpNsW",
        "outputId": "0403919c-904c-479c-e2a1-3332612381d9"
      },
      "source": [
        "import matplotlib.pyplot as plt\n",
        "\n",
        "fig, axes = plt.subplots(nrows=2, ncols=2, figsize=(24, 12))\n",
        "fig.suptitle('Accuracy comparison in train, valid and test data', fontweight='bold', fontsize='20')\n",
        "axes[0, 0].set_title(\"Train\")\n",
        "axes[0, 1].set_title(\"Valid\")\n",
        "axes[1, 0].set_title(\"Test\")\n",
        "axes[1, 1].set_title(\"Combined\")\n",
        "location_train.plot(ax=axes[0, 0], subplots=True, x='Epoch Time', y=['Accuracy'], kind='hist', bins=100)\n",
        "location_valid.plot(ax=axes[0, 1], subplots=True, x='Epoch Time', y=['Accuracy'], kind='hist', bins=100)\n",
        "location_test.plot(ax=axes[1, 0], subplots=True, x='Epoch Time', y=['Accuracy'], kind='hist', bins=100)\n",
        "location.plot(ax=axes[1, 1], subplots=True, x='Epoch Time', y=['Accuracy'], kind='hist', bins=100)"
      ],
      "execution_count": null,
      "outputs": [
        {
          "output_type": "execute_result",
          "data": {
            "text/plain": [
              "array([<matplotlib.axes._subplots.AxesSubplot object at 0x7f28005b70d0>],\n",
              "      dtype=object)"
            ]
          },
          "metadata": {
            "tags": []
          },
          "execution_count": 36
        },
        {
          "output_type": "display_data",
          "data": {
            "image/png": "[encoded data removed]",
            "text/plain": [
              "<Figure size 1728x864 with 4 Axes>"
            ]
          },
          "metadata": {
            "tags": [],
            "needs_background": "light"
          }
        }
      ]
    },
    {
      "cell_type": "code",
      "metadata": {
        "colab": {
          "base_uri": "https://localhost:8080/"
        },
        "id": "YIKBLXlO6GyE",
        "outputId": "874f8700-365a-4d98-b9cc-34211ef48a6f"
      },
      "source": [
        "import matplotlib.pyplot as plt\n",
        "\n",
        "fig, axes = plt.subplots(nrows=2, ncols=2, figsize=(24, 12))\n",
        "fig.suptitle('Latitude comparison in train, valid and test data', fontweight='bold', fontsize='20')\n",
        "axes[0, 0].set_title(\"Train\")\n",
        "axes[0, 1].set_title(\"Valid\")\n",
        "axes[1, 0].set_title(\"Test\")\n",
        "axes[1, 1].set_title(\"Combined\")\n",
        "location_train.plot(ax=axes[0, 0], subplots=True, x='Epoch Time', y=['Latitude'], kind='hist', bins=100)\n",
        "location_valid.plot(ax=axes[0, 1], subplots=True, x='Epoch Time', y=['Latitude'], kind='hist', bins=100)\n",
        "location_test.plot(ax=axes[1, 0], subplots=True, x='Epoch Time', y=['Latitude'], kind='hist', bins=100)\n",
        "location.plot(ax=axes[1, 1], subplots=True, x='Epoch Time', y=['Latitude'], kind='hist', bins=100)"
      ],
      "execution_count": null,
      "outputs": [
        {
          "output_type": "execute_result",
          "data": {
            "text/plain": [
              "array([<matplotlib.axes._subplots.AxesSubplot object at 0x7f2819e24410>],\n",
              "      dtype=object)"
            ]
          },
          "metadata": {
            "tags": []
          },
          "execution_count": 37
        },
        {
          "output_type": "display_data",
          "data": {
            "image/png": "[encoded data removed]",
            "text/plain": [
              "<Figure size 1728x864 with 4 Axes>"
            ]
          },
          "metadata": {
            "tags": [],
            "needs_background": "light"
          }
        }
      ]
    },
    {
      "cell_type": "code",
      "metadata": {
        "colab": {
          "base_uri": "https://localhost:8080/"
        },
        "id": "_TxaAi957O6P",
        "outputId": "75277c5e-d2f5-453b-bbe9-3a8a48138260"
      },
      "source": [
        "import matplotlib.pyplot as plt\n",
        "\n",
        "fig, axes = plt.subplots(nrows=2, ncols=2, figsize=(24, 12))\n",
        "fig.suptitle('Longitude comparison in train, valid and test data', fontweight='bold', fontsize='20')\n",
        "axes[0, 0].set_title(\"Train\")\n",
        "axes[0, 1].set_title(\"Valid\")\n",
        "axes[1, 0].set_title(\"Test\")\n",
        "axes[1, 1].set_title(\"Combined\")\n",
        "location_train.plot(ax=axes[0, 0], subplots=True, x='Epoch Time', y=['Longitude'], kind='hist', bins=100)\n",
        "location_valid.plot(ax=axes[0, 1], subplots=True, x='Epoch Time', y=['Longitude'], kind='hist', bins=100)\n",
        "location_test.plot(ax=axes[1, 0], subplots=True, x='Epoch Time', y=['Longitude'], kind='hist', bins=100)\n",
        "location.plot(ax=axes[1, 1], subplots=True, x='Epoch Time', y=['Longitude'], kind='hist', bins=100)"
      ],
      "execution_count": null,
      "outputs": [
        {
          "output_type": "execute_result",
          "data": {
            "text/plain": [
              "array([<matplotlib.axes._subplots.AxesSubplot object at 0x7f28197cbbd0>],\n",
              "      dtype=object)"
            ]
          },
          "metadata": {
            "tags": []
          },
          "execution_count": 38
        },
        {
          "output_type": "display_data",
          "data": {
            "image/png": "[encoded data removed]",
            "text/plain": [
              "<Figure size 1728x864 with 4 Axes>"
            ]
          },
          "metadata": {
            "tags": [],
            "needs_background": "light"
          }
        }
      ]
    },
    {
      "cell_type": "code",
      "metadata": {
        "colab": {
          "base_uri": "https://localhost:8080/"
        },
        "id": "LlzPe8kHIETh",
        "outputId": "5902c78b-38e8-4057-91c8-c3d5fded6cf2"
      },
      "source": [
        "import matplotlib.pyplot as plt\n",
        "\n",
        "fig, axes = plt.subplots(nrows=2, ncols=2, figsize=(24, 12))\n",
        "fig.suptitle('Altitude comparison in train, valid and test data', fontweight='bold', fontsize='20')\n",
        "axes[0, 0].set_title(\"Train\")\n",
        "axes[0, 1].set_title(\"Valid\")\n",
        "axes[1, 0].set_title(\"Test\")\n",
        "axes[1, 1].set_title(\"Combined\")\n",
        "location_train.plot(ax=axes[0, 0], subplots=True, x='Epoch Time', y=['Altitude'], kind='hist', bins=100)\n",
        "location_valid.plot(ax=axes[0, 1], subplots=True, x='Epoch Time', y=['Altitude'], kind='hist', bins=100)\n",
        "location_test.plot(ax=axes[1, 0], subplots=True, x='Epoch Time', y=['Altitude'], kind='hist', bins=100)\n",
        "location.plot(ax=axes[1, 1], subplots=True, x='Epoch Time', y=['Altitude'], kind='hist', bins=100)"
      ],
      "execution_count": null,
      "outputs": [
        {
          "output_type": "execute_result",
          "data": {
            "text/plain": [
              "array([<matplotlib.axes._subplots.AxesSubplot object at 0x7f28191aa710>],\n",
              "      dtype=object)"
            ]
          },
          "metadata": {
            "tags": []
          },
          "execution_count": 39
        },
        {
          "output_type": "display_data",
          "data": {
            "image/png": "[encoded data removed]",
            "text/plain": [
              "<Figure size 1728x864 with 4 Axes>"
            ]
          },
          "metadata": {
            "tags": [],
            "needs_background": "light"
          }
        }
      ]
    },
    {
      "cell_type": "markdown",
      "metadata": {
        "id": "H-dJXARvnt-I"
      },
      "source": [
        "## GPS Data"
      ]
    },
    {
      "cell_type": "code",
      "metadata": {
        "colab": {
          "base_uri": "https://localhost:8080/"
        },
        "id": "gFo25NRbn0_m",
        "outputId": "4b2196fb-eeff-424d-db55-8c1ee5c8b987"
      },
      "source": [
        "display_side_by_side(gps_train.describe(), gps_valid.describe(), gps_test.describe(), titles=['gps_train', 'gps_valid', 'gps_test'])"
      ],
      "execution_count": null,
      "outputs": [
        {
          "output_type": "display_data",
          "data": {
            "text/html": [
              "<th style=\"text-align:center\"><td style=\"vertical-align:top\"><h2>gps_train</h2><table style=\"display:inline\" border=\"1\" class=\"dataframe\">\n",
              "  <thead>\n",
              "    <tr style=\"text-align: right;\">\n",
              "      <th></th>\n",
              "      <th>nsatellite</th>\n",
              "    </tr>\n",
              "  </thead>\n",
              "  <tbody>\n",
              "    <tr>\n",
              "      <th>count</th>\n",
              "      <td>1.322749e+06</td>\n",
              "    </tr>\n",
              "    <tr>\n",
              "      <th>mean</th>\n",
              "      <td>1.061953e+01</td>\n",
              "    </tr>\n",
              "    <tr>\n",
              "      <th>std</th>\n",
              "      <td>6.532183e+00</td>\n",
              "    </tr>\n",
              "    <tr>\n",
              "      <th>min</th>\n",
              "      <td>0.000000e+00</td>\n",
              "    </tr>\n",
              "    <tr>\n",
              "      <th>25%</th>\n",
              "      <td>4.000000e+00</td>\n",
              "    </tr>\n",
              "    <tr>\n",
              "      <th>50%</th>\n",
              "      <td>1.400000e+01</td>\n",
              "    </tr>\n",
              "    <tr>\n",
              "      <th>75%</th>\n",
              "      <td>1.600000e+01</td>\n",
              "    </tr>\n",
              "    <tr>\n",
              "      <th>max</th>\n",
              "      <td>2.300000e+01</td>\n",
              "    </tr>\n",
              "  </tbody>\n",
              "</table style=\"display:inline\"></td></th><th style=\"text-align:center\"><td style=\"vertical-align:top\"><h2>gps_valid</h2><table style=\"display:inline\" border=\"1\" class=\"dataframe\">\n",
              "  <thead>\n",
              "    <tr style=\"text-align: right;\">\n",
              "      <th></th>\n",
              "      <th>nsatellite</th>\n",
              "    </tr>\n",
              "  </thead>\n",
              "  <tbody>\n",
              "    <tr>\n",
              "      <th>count</th>\n",
              "      <td>157348.000000</td>\n",
              "    </tr>\n",
              "    <tr>\n",
              "      <th>mean</th>\n",
              "      <td>9.635960</td>\n",
              "    </tr>\n",
              "    <tr>\n",
              "      <th>std</th>\n",
              "      <td>6.449395</td>\n",
              "    </tr>\n",
              "    <tr>\n",
              "      <th>min</th>\n",
              "      <td>0.000000</td>\n",
              "    </tr>\n",
              "    <tr>\n",
              "      <th>25%</th>\n",
              "      <td>2.000000</td>\n",
              "    </tr>\n",
              "    <tr>\n",
              "      <th>50%</th>\n",
              "      <td>12.000000</td>\n",
              "    </tr>\n",
              "    <tr>\n",
              "      <th>75%</th>\n",
              "      <td>15.000000</td>\n",
              "    </tr>\n",
              "    <tr>\n",
              "      <th>max</th>\n",
              "      <td>19.000000</td>\n",
              "    </tr>\n",
              "  </tbody>\n",
              "</table style=\"display:inline\"></td></th><th style=\"text-align:center\"><td style=\"vertical-align:top\"><h2>gps_test</h2><table style=\"display:inline\" border=\"1\" class=\"dataframe\">\n",
              "  <thead>\n",
              "    <tr style=\"text-align: right;\">\n",
              "      <th></th>\n",
              "      <th>nsatellite</th>\n",
              "    </tr>\n",
              "  </thead>\n",
              "  <tbody>\n",
              "    <tr>\n",
              "      <th>count</th>\n",
              "      <td>781773.000000</td>\n",
              "    </tr>\n",
              "    <tr>\n",
              "      <th>mean</th>\n",
              "      <td>10.625199</td>\n",
              "    </tr>\n",
              "    <tr>\n",
              "      <th>std</th>\n",
              "      <td>6.033214</td>\n",
              "    </tr>\n",
              "    <tr>\n",
              "      <th>min</th>\n",
              "      <td>0.000000</td>\n",
              "    </tr>\n",
              "    <tr>\n",
              "      <th>25%</th>\n",
              "      <td>6.000000</td>\n",
              "    </tr>\n",
              "    <tr>\n",
              "      <th>50%</th>\n",
              "      <td>13.000000</td>\n",
              "    </tr>\n",
              "    <tr>\n",
              "      <th>75%</th>\n",
              "      <td>15.000000</td>\n",
              "    </tr>\n",
              "    <tr>\n",
              "      <th>max</th>\n",
              "      <td>22.000000</td>\n",
              "    </tr>\n",
              "  </tbody>\n",
              "</table style=\"display:inline\"></td></th>"
            ]
          },
          "metadata": {
            "tags": []
          }
        }
      ]
    },
    {
      "cell_type": "code",
      "metadata": {
        "colab": {
          "base_uri": "https://localhost:8080/"
        },
        "id": "4jSipb288mFE",
        "outputId": "f020d179-08cc-4902-83e1-ba5c43660fd1"
      },
      "source": [
        "import matplotlib.pyplot as plt\n",
        "\n",
        "fig, axes = plt.subplots(nrows=2, ncols=2, figsize=(24, 12))\n",
        "axes[0, 0].set_title(\"Train\")\n",
        "axes[0, 1].set_title(\"Valid\")\n",
        "axes[1, 0].set_title(\"Test\")\n",
        "axes[1, 1].set_title(\"Combined\")\n",
        "gps_train.plot(ax=axes[0, 0], subplots=True, x='Epoch Time', y=['nsatellite'], kind='hist', bins=100)\n",
        "gps_valid.plot(ax=axes[0, 1], subplots=True, x='Epoch Time', y=['nsatellite'], kind='hist', bins=100)\n",
        "gps_test.plot(ax=axes[1, 0], subplots=True, x='Epoch Time', y=['nsatellite'], kind='hist', bins=100)\n",
        "gps.plot(ax=axes[1, 1], subplots=True, x='Epoch Time', y=['nsatellite'], kind='hist', bins=100)"
      ],
      "execution_count": null,
      "outputs": [
        {
          "output_type": "execute_result",
          "data": {
            "text/plain": [
              "array([<matplotlib.axes._subplots.AxesSubplot object at 0x7f2818bbf6d0>],\n",
              "      dtype=object)"
            ]
          },
          "metadata": {
            "tags": []
          },
          "execution_count": 41
        },
        {
          "output_type": "display_data",
          "data": {
            "image/png": "[encoded data removed]",
            "text/plain": [
              "<Figure size 1728x864 with 4 Axes>"
            ]
          },
          "metadata": {
            "tags": [],
            "needs_background": "light"
          }
        }
      ]
    },
    {
      "cell_type": "markdown",
      "metadata": {
        "id": "F6nOsVSkn2ot"
      },
      "source": [
        "## WiFi Data"
      ]
    },
    {
      "cell_type": "code",
      "metadata": {
        "colab": {
          "base_uri": "https://localhost:8080/"
        },
        "id": "Bc_SpkxKn5Fq",
        "outputId": "1efa80ea-7bea-42e2-cb4a-e258e0f10f73"
      },
      "source": [
        "display_side_by_side(wifi_train.describe(), wifi_valid.describe(), wifi_test.describe(), titles=['wifi_train', 'wifi_valid', 'wifi_test'])"
      ],
      "execution_count": null,
      "outputs": [
        {
          "output_type": "display_data",
          "data": {
            "text/html": [
              "<th style=\"text-align:center\"><td style=\"vertical-align:top\"><h2>wifi_train</h2><table style=\"display:inline\" border=\"1\" class=\"dataframe\">\n",
              "  <thead>\n",
              "    <tr style=\"text-align: right;\">\n",
              "      <th></th>\n",
              "      <th>nwifi</th>\n",
              "    </tr>\n",
              "  </thead>\n",
              "  <tbody>\n",
              "    <tr>\n",
              "      <th>count</th>\n",
              "      <td>1.459351e+06</td>\n",
              "    </tr>\n",
              "    <tr>\n",
              "      <th>mean</th>\n",
              "      <td>8.636808e+00</td>\n",
              "    </tr>\n",
              "    <tr>\n",
              "      <th>std</th>\n",
              "      <td>1.332486e+01</td>\n",
              "    </tr>\n",
              "    <tr>\n",
              "      <th>min</th>\n",
              "      <td>0.000000e+00</td>\n",
              "    </tr>\n",
              "    <tr>\n",
              "      <th>25%</th>\n",
              "      <td>0.000000e+00</td>\n",
              "    </tr>\n",
              "    <tr>\n",
              "      <th>50%</th>\n",
              "      <td>5.000000e+00</td>\n",
              "    </tr>\n",
              "    <tr>\n",
              "      <th>75%</th>\n",
              "      <td>1.000000e+01</td>\n",
              "    </tr>\n",
              "    <tr>\n",
              "      <th>max</th>\n",
              "      <td>1.330000e+02</td>\n",
              "    </tr>\n",
              "  </tbody>\n",
              "</table style=\"display:inline\"></td></th><th style=\"text-align:center\"><td style=\"vertical-align:top\"><h2>wifi_valid</h2><table style=\"display:inline\" border=\"1\" class=\"dataframe\">\n",
              "  <thead>\n",
              "    <tr style=\"text-align: right;\">\n",
              "      <th></th>\n",
              "      <th>nwifi</th>\n",
              "    </tr>\n",
              "  </thead>\n",
              "  <tbody>\n",
              "    <tr>\n",
              "      <th>count</th>\n",
              "      <td>158681.000000</td>\n",
              "    </tr>\n",
              "    <tr>\n",
              "      <th>mean</th>\n",
              "      <td>9.367713</td>\n",
              "    </tr>\n",
              "    <tr>\n",
              "      <th>std</th>\n",
              "      <td>12.617316</td>\n",
              "    </tr>\n",
              "    <tr>\n",
              "      <th>min</th>\n",
              "      <td>0.000000</td>\n",
              "    </tr>\n",
              "    <tr>\n",
              "      <th>25%</th>\n",
              "      <td>1.000000</td>\n",
              "    </tr>\n",
              "    <tr>\n",
              "      <th>50%</th>\n",
              "      <td>5.000000</td>\n",
              "    </tr>\n",
              "    <tr>\n",
              "      <th>75%</th>\n",
              "      <td>12.000000</td>\n",
              "    </tr>\n",
              "    <tr>\n",
              "      <th>max</th>\n",
              "      <td>75.000000</td>\n",
              "    </tr>\n",
              "  </tbody>\n",
              "</table style=\"display:inline\"></td></th><th style=\"text-align:center\"><td style=\"vertical-align:top\"><h2>wifi_test</h2><table style=\"display:inline\" border=\"1\" class=\"dataframe\">\n",
              "  <thead>\n",
              "    <tr style=\"text-align: right;\">\n",
              "      <th></th>\n",
              "      <th>nwifi</th>\n",
              "    </tr>\n",
              "  </thead>\n",
              "  <tbody>\n",
              "    <tr>\n",
              "      <th>count</th>\n",
              "      <td>771855.000000</td>\n",
              "    </tr>\n",
              "    <tr>\n",
              "      <th>mean</th>\n",
              "      <td>10.246344</td>\n",
              "    </tr>\n",
              "    <tr>\n",
              "      <th>std</th>\n",
              "      <td>13.486045</td>\n",
              "    </tr>\n",
              "    <tr>\n",
              "      <th>min</th>\n",
              "      <td>0.000000</td>\n",
              "    </tr>\n",
              "    <tr>\n",
              "      <th>25%</th>\n",
              "      <td>1.000000</td>\n",
              "    </tr>\n",
              "    <tr>\n",
              "      <th>50%</th>\n",
              "      <td>7.000000</td>\n",
              "    </tr>\n",
              "    <tr>\n",
              "      <th>75%</th>\n",
              "      <td>13.000000</td>\n",
              "    </tr>\n",
              "    <tr>\n",
              "      <th>max</th>\n",
              "      <td>173.000000</td>\n",
              "    </tr>\n",
              "  </tbody>\n",
              "</table style=\"display:inline\"></td></th>"
            ]
          },
          "metadata": {
            "tags": []
          }
        }
      ]
    },
    {
      "cell_type": "code",
      "metadata": {
        "colab": {
          "base_uri": "https://localhost:8080/"
        },
        "id": "bwUT_K-O9uIt",
        "outputId": "27f6c80b-9a7b-4619-f5fe-2a03883181d0"
      },
      "source": [
        "import matplotlib.pyplot as plt\n",
        "\n",
        "fig, axes = plt.subplots(nrows=2, ncols=2, figsize=(24, 12))\n",
        "axes[0, 0].set_title(\"Train\")\n",
        "axes[0, 1].set_title(\"Valid\")\n",
        "axes[1, 0].set_title(\"Test\")\n",
        "axes[1, 1].set_title(\"Combined\")\n",
        "wifi_train.plot(ax=axes[0, 0], subplots=True, x='Epoch Time', y=['nwifi'], kind='hist', bins=100)\n",
        "wifi_valid.plot(ax=axes[0, 1], subplots=True, x='Epoch Time', y=['nwifi'], kind='hist', bins=100)\n",
        "wifi_test.plot(ax=axes[1, 0], subplots=True, x='Epoch Time', y=['nwifi'], kind='hist', bins=100)\n",
        "wifi.plot(ax=axes[1, 1], subplots=True, x='Epoch Time', y=['nwifi'], kind='hist', bins=100)"
      ],
      "execution_count": null,
      "outputs": [
        {
          "output_type": "execute_result",
          "data": {
            "text/plain": [
              "array([<matplotlib.axes._subplots.AxesSubplot object at 0x7f28184f8b50>],\n",
              "      dtype=object)"
            ]
          },
          "metadata": {
            "tags": []
          },
          "execution_count": 43
        },
        {
          "output_type": "display_data",
          "data": {
            "image/png": "[encoded data removed]",
            "text/plain": [
              "<Figure size 1728x864 with 4 Axes>"
            ]
          },
          "metadata": {
            "tags": [],
            "needs_background": "light"
          }
        }
      ]
    },
    {
      "cell_type": "markdown",
      "metadata": {
        "id": "EK7LJs-yn5VA"
      },
      "source": [
        "## Cell Data"
      ]
    },
    {
      "cell_type": "code",
      "metadata": {
        "colab": {
          "base_uri": "https://localhost:8080/"
        },
        "id": "uSNMJROzn9Ar",
        "outputId": "7c3462a6-2f20-4438-905b-6af99ca4b3b6"
      },
      "source": [
        "display_side_by_side(cell_train.describe(), cell_valid.describe(), cell_test.describe(), titles=['cell_train', 'cell_valid', 'cell_test'])"
      ],
      "execution_count": null,
      "outputs": [
        {
          "output_type": "display_data",
          "data": {
            "text/html": [
              "<th style=\"text-align:center\"><td style=\"vertical-align:top\"><h2>cell_train</h2><table style=\"display:inline\" border=\"1\" class=\"dataframe\">\n",
              "  <thead>\n",
              "    <tr style=\"text-align: right;\">\n",
              "      <th></th>\n",
              "      <th>ncell</th>\n",
              "    </tr>\n",
              "  </thead>\n",
              "  <tbody>\n",
              "    <tr>\n",
              "      <th>count</th>\n",
              "      <td>1.324881e+06</td>\n",
              "    </tr>\n",
              "    <tr>\n",
              "      <th>mean</th>\n",
              "      <td>3.377194e+00</td>\n",
              "    </tr>\n",
              "    <tr>\n",
              "      <th>std</th>\n",
              "      <td>2.864164e+00</td>\n",
              "    </tr>\n",
              "    <tr>\n",
              "      <th>min</th>\n",
              "      <td>0.000000e+00</td>\n",
              "    </tr>\n",
              "    <tr>\n",
              "      <th>25%</th>\n",
              "      <td>2.000000e+00</td>\n",
              "    </tr>\n",
              "    <tr>\n",
              "      <th>50%</th>\n",
              "      <td>3.000000e+00</td>\n",
              "    </tr>\n",
              "    <tr>\n",
              "      <th>75%</th>\n",
              "      <td>4.000000e+00</td>\n",
              "    </tr>\n",
              "    <tr>\n",
              "      <th>max</th>\n",
              "      <td>3.500000e+01</td>\n",
              "    </tr>\n",
              "  </tbody>\n",
              "</table style=\"display:inline\"></td></th><th style=\"text-align:center\"><td style=\"vertical-align:top\"><h2>cell_valid</h2><table style=\"display:inline\" border=\"1\" class=\"dataframe\">\n",
              "  <thead>\n",
              "    <tr style=\"text-align: right;\">\n",
              "      <th></th>\n",
              "      <th>ncell</th>\n",
              "    </tr>\n",
              "  </thead>\n",
              "  <tbody>\n",
              "    <tr>\n",
              "      <th>count</th>\n",
              "      <td>126333.000000</td>\n",
              "    </tr>\n",
              "    <tr>\n",
              "      <th>mean</th>\n",
              "      <td>2.643023</td>\n",
              "    </tr>\n",
              "    <tr>\n",
              "      <th>std</th>\n",
              "      <td>2.793142</td>\n",
              "    </tr>\n",
              "    <tr>\n",
              "      <th>min</th>\n",
              "      <td>0.000000</td>\n",
              "    </tr>\n",
              "    <tr>\n",
              "      <th>25%</th>\n",
              "      <td>1.000000</td>\n",
              "    </tr>\n",
              "    <tr>\n",
              "      <th>50%</th>\n",
              "      <td>2.000000</td>\n",
              "    </tr>\n",
              "    <tr>\n",
              "      <th>75%</th>\n",
              "      <td>3.000000</td>\n",
              "    </tr>\n",
              "    <tr>\n",
              "      <th>max</th>\n",
              "      <td>27.000000</td>\n",
              "    </tr>\n",
              "  </tbody>\n",
              "</table style=\"display:inline\"></td></th><th style=\"text-align:center\"><td style=\"vertical-align:top\"><h2>cell_test</h2><table style=\"display:inline\" border=\"1\" class=\"dataframe\">\n",
              "  <thead>\n",
              "    <tr style=\"text-align: right;\">\n",
              "      <th></th>\n",
              "      <th>ncell</th>\n",
              "    </tr>\n",
              "  </thead>\n",
              "  <tbody>\n",
              "    <tr>\n",
              "      <th>count</th>\n",
              "      <td>561369.000000</td>\n",
              "    </tr>\n",
              "    <tr>\n",
              "      <th>mean</th>\n",
              "      <td>2.868714</td>\n",
              "    </tr>\n",
              "    <tr>\n",
              "      <th>std</th>\n",
              "      <td>2.527073</td>\n",
              "    </tr>\n",
              "    <tr>\n",
              "      <th>min</th>\n",
              "      <td>0.000000</td>\n",
              "    </tr>\n",
              "    <tr>\n",
              "      <th>25%</th>\n",
              "      <td>1.000000</td>\n",
              "    </tr>\n",
              "    <tr>\n",
              "      <th>50%</th>\n",
              "      <td>2.000000</td>\n",
              "    </tr>\n",
              "    <tr>\n",
              "      <th>75%</th>\n",
              "      <td>4.000000</td>\n",
              "    </tr>\n",
              "    <tr>\n",
              "      <th>max</th>\n",
              "      <td>28.000000</td>\n",
              "    </tr>\n",
              "  </tbody>\n",
              "</table style=\"display:inline\"></td></th>"
            ]
          },
          "metadata": {
            "tags": []
          }
        }
      ]
    },
    {
      "cell_type": "code",
      "metadata": {
        "colab": {
          "base_uri": "https://localhost:8080/"
        },
        "id": "WB15JbARALfg",
        "outputId": "d329feb9-24dc-4acc-da60-789311a4bf30"
      },
      "source": [
        "import matplotlib.pyplot as plt\n",
        "\n",
        "fig, axes = plt.subplots(nrows=2, ncols=2, figsize=(24, 12))\n",
        "axes[0, 0].set_title(\"Train\")\n",
        "axes[0, 1].set_title(\"Valid\")\n",
        "axes[1, 0].set_title(\"Test\")\n",
        "axes[1, 1].set_title(\"Combined\")\n",
        "cell_train.plot(ax=axes[0, 0], subplots=True, x='Epoch Time', y=['ncell'], kind='hist', bins=100)\n",
        "cell_valid.plot(ax=axes[0, 1], subplots=True, x='Epoch Time', y=['ncell'], kind='hist', bins=100)\n",
        "cell_test.plot(ax=axes[1, 0], subplots=True, x='Epoch Time', y=['ncell'], kind='hist', bins=100)\n",
        "cell.plot(ax=axes[1, 1], subplots=True, x='Epoch Time', y=['ncell'], kind='hist', bins=100)"
      ],
      "execution_count": null,
      "outputs": [
        {
          "output_type": "execute_result",
          "data": {
            "text/plain": [
              "array([<matplotlib.axes._subplots.AxesSubplot object at 0x7f2817e9ff10>],\n",
              "      dtype=object)"
            ]
          },
          "metadata": {
            "tags": []
          },
          "execution_count": 45
        },
        {
          "output_type": "display_data",
          "data": {
            "image/png": "[encoded data removed]",
            "text/plain": [
              "<Figure size 1728x864 with 4 Axes>"
            ]
          },
          "metadata": {
            "tags": [],
            "needs_background": "light"
          }
        }
      ]
    },
    {
      "cell_type": "markdown",
      "metadata": {
        "id": "Kpo3e6Fbn9OQ"
      },
      "source": [
        "## Label Data"
      ]
    },
    {
      "cell_type": "code",
      "metadata": {
        "colab": {
          "base_uri": "https://localhost:8080/"
        },
        "id": "Iz5p-HoFn_YR",
        "outputId": "d67c2fed-ecf4-4063-f89e-433f6b936651"
      },
      "source": [
        "display_side_by_side(label_train.describe(), label_valid.describe(), titles=['label_train', 'label_valid'])"
      ],
      "execution_count": null,
      "outputs": [
        {
          "output_type": "display_data",
          "data": {
            "text/html": [
              "<th style=\"text-align:center\"><td style=\"vertical-align:top\"><h2>label_train</h2><table style=\"display:inline\" border=\"1\" class=\"dataframe\">\n",
              "  <thead>\n",
              "    <tr style=\"text-align: right;\">\n",
              "      <th></th>\n",
              "      <th>Label</th>\n",
              "    </tr>\n",
              "  </thead>\n",
              "  <tbody>\n",
              "    <tr>\n",
              "      <th>count</th>\n",
              "      <td>980527.000000</td>\n",
              "    </tr>\n",
              "    <tr>\n",
              "      <th>mean</th>\n",
              "      <td>4.747335</td>\n",
              "    </tr>\n",
              "    <tr>\n",
              "      <th>std</th>\n",
              "      <td>2.286206</td>\n",
              "    </tr>\n",
              "    <tr>\n",
              "      <th>min</th>\n",
              "      <td>1.000000</td>\n",
              "    </tr>\n",
              "    <tr>\n",
              "      <th>25%</th>\n",
              "      <td>3.000000</td>\n",
              "    </tr>\n",
              "    <tr>\n",
              "      <th>50%</th>\n",
              "      <td>5.000000</td>\n",
              "    </tr>\n",
              "    <tr>\n",
              "      <th>75%</th>\n",
              "      <td>7.000000</td>\n",
              "    </tr>\n",
              "    <tr>\n",
              "      <th>max</th>\n",
              "      <td>8.000000</td>\n",
              "    </tr>\n",
              "  </tbody>\n",
              "</table style=\"display:inline\"></td></th><th style=\"text-align:center\"><td style=\"vertical-align:top\"><h2>label_valid</h2><table style=\"display:inline\" border=\"1\" class=\"dataframe\">\n",
              "  <thead>\n",
              "    <tr style=\"text-align: right;\">\n",
              "      <th></th>\n",
              "      <th>Label</th>\n",
              "    </tr>\n",
              "  </thead>\n",
              "  <tbody>\n",
              "    <tr>\n",
              "      <th>count</th>\n",
              "      <td>143958.000000</td>\n",
              "    </tr>\n",
              "    <tr>\n",
              "      <th>mean</th>\n",
              "      <td>4.323073</td>\n",
              "    </tr>\n",
              "    <tr>\n",
              "      <th>std</th>\n",
              "      <td>2.584619</td>\n",
              "    </tr>\n",
              "    <tr>\n",
              "      <th>min</th>\n",
              "      <td>1.000000</td>\n",
              "    </tr>\n",
              "    <tr>\n",
              "      <th>25%</th>\n",
              "      <td>2.000000</td>\n",
              "    </tr>\n",
              "    <tr>\n",
              "      <th>50%</th>\n",
              "      <td>5.000000</td>\n",
              "    </tr>\n",
              "    <tr>\n",
              "      <th>75%</th>\n",
              "      <td>7.000000</td>\n",
              "    </tr>\n",
              "    <tr>\n",
              "      <th>max</th>\n",
              "      <td>8.000000</td>\n",
              "    </tr>\n",
              "  </tbody>\n",
              "</table style=\"display:inline\"></td></th>"
            ]
          },
          "metadata": {
            "tags": []
          }
        }
      ]
    },
    {
      "cell_type": "code",
      "metadata": {
        "colab": {
          "base_uri": "https://localhost:8080/"
        },
        "id": "HQdE_zcAo_ik",
        "outputId": "45046403-4b30-4c7b-c2c2-5ac186fd9761"
      },
      "source": [
        "import matplotlib.pyplot as plt\n",
        "\n",
        "fig, axes = plt.subplots(nrows=1, ncols=2, figsize=(24, 6))\n",
        "axes[0].set_title(\"Train\")\n",
        "axes[1].set_title(\"Valid\")\n",
        "label_train.plot(ax=axes[0], subplots=True, x='Epoch Time', y=['Label'], kind='hist', bins=100)\n",
        "label_valid.plot(ax=axes[1], subplots=True, x='Epoch Time', y=['Label'], kind='hist', bins=100)"
      ],
      "execution_count": null,
      "outputs": [
        {
          "output_type": "execute_result",
          "data": {
            "text/plain": [
              "array([<matplotlib.axes._subplots.AxesSubplot object at 0x7f28178a7d90>],\n",
              "      dtype=object)"
            ]
          },
          "metadata": {
            "tags": []
          },
          "execution_count": 47
        },
        {
          "output_type": "display_data",
          "data": {
            "image/png": "[encoded data removed]",
            "text/plain": [
              "<Figure size 1728x432 with 2 Axes>"
            ]
          },
          "metadata": {
            "tags": [],
            "needs_background": "light"
          }
        }
      ]
    },
    {
      "cell_type": "markdown",
      "metadata": {
        "id": "lQ0iMoFmbspq"
      },
      "source": [
        "# Merge All Data Based on Label Timestamp"
      ]
    },
    {
      "cell_type": "code",
      "metadata": {
        "colab": {
          "base_uri": "https://localhost:8080/",
          "height": 225
        },
        "id": "Shil37mVan__",
        "outputId": "20b53258-03d8-47f6-c2b7-317965c0656f"
      },
      "source": [
        "train = pd.merge(label_train, cell_train, on='Epoch Time', how='left')\n",
        "train = pd.merge(train, wifi_train, on='Epoch Time', how='left')\n",
        "train = pd.merge(train, gps_train, on='Epoch Time', how='left')\n",
        "train = pd.merge(train, location_train, on='Epoch Time', how='left')\n",
        "train.drop_duplicates(subset=['Epoch Time'], keep='first', inplace=True)\n",
        "train.set_index(train['Epoch Time'], inplace=True)\n",
        "train = train[['Accuracy', 'Latitude', 'Longitude', 'Altitude', 'nsatellite', 'nwifi', 'ncell', 'Label']]\n",
        "train.head()"
      ],
      "execution_count": null,
      "outputs": [
        {
          "output_type": "execute_result",
          "data": {
            "text/html": [
              "<div>\n",
              "<style scoped>\n",
              "    .dataframe tbody tr th:only-of-type {\n",
              "        vertical-align: middle;\n",
              "    }\n",
              "\n",
              "    .dataframe tbody tr th {\n",
              "        vertical-align: top;\n",
              "    }\n",
              "\n",
              "    .dataframe thead th {\n",
              "        text-align: right;\n",
              "    }\n",
              "</style>\n",
              "<table border=\"1\" class=\"dataframe\">\n",
              "  <thead>\n",
              "    <tr style=\"text-align: right;\">\n",
              "      <th></th>\n",
              "      <th>Accuracy</th>\n",
              "      <th>Latitude</th>\n",
              "      <th>Longitude</th>\n",
              "      <th>Altitude</th>\n",
              "      <th>nsatellite</th>\n",
              "      <th>nwifi</th>\n",
              "      <th>ncell</th>\n",
              "      <th>Label</th>\n",
              "    </tr>\n",
              "    <tr>\n",
              "      <th>Epoch Time</th>\n",
              "      <th></th>\n",
              "      <th></th>\n",
              "      <th></th>\n",
              "      <th></th>\n",
              "      <th></th>\n",
              "      <th></th>\n",
              "      <th></th>\n",
              "      <th></th>\n",
              "    </tr>\n",
              "  </thead>\n",
              "  <tbody>\n",
              "    <tr>\n",
              "      <th>2017-03-25 08:46:23</th>\n",
              "      <td>NaN</td>\n",
              "      <td>NaN</td>\n",
              "      <td>NaN</td>\n",
              "      <td>NaN</td>\n",
              "      <td>4.0</td>\n",
              "      <td>6.0</td>\n",
              "      <td>NaN</td>\n",
              "      <td>4</td>\n",
              "    </tr>\n",
              "    <tr>\n",
              "      <th>2017-03-25 08:46:24</th>\n",
              "      <td>NaN</td>\n",
              "      <td>NaN</td>\n",
              "      <td>NaN</td>\n",
              "      <td>NaN</td>\n",
              "      <td>4.0</td>\n",
              "      <td>6.0</td>\n",
              "      <td>NaN</td>\n",
              "      <td>4</td>\n",
              "    </tr>\n",
              "    <tr>\n",
              "      <th>2017-03-25 08:46:25</th>\n",
              "      <td>NaN</td>\n",
              "      <td>NaN</td>\n",
              "      <td>NaN</td>\n",
              "      <td>NaN</td>\n",
              "      <td>4.0</td>\n",
              "      <td>6.0</td>\n",
              "      <td>NaN</td>\n",
              "      <td>4</td>\n",
              "    </tr>\n",
              "    <tr>\n",
              "      <th>2017-03-25 08:46:26</th>\n",
              "      <td>NaN</td>\n",
              "      <td>NaN</td>\n",
              "      <td>NaN</td>\n",
              "      <td>NaN</td>\n",
              "      <td>4.0</td>\n",
              "      <td>NaN</td>\n",
              "      <td>NaN</td>\n",
              "      <td>4</td>\n",
              "    </tr>\n",
              "    <tr>\n",
              "      <th>2017-03-25 08:46:27</th>\n",
              "      <td>NaN</td>\n",
              "      <td>NaN</td>\n",
              "      <td>NaN</td>\n",
              "      <td>NaN</td>\n",
              "      <td>4.0</td>\n",
              "      <td>6.0</td>\n",
              "      <td>NaN</td>\n",
              "      <td>4</td>\n",
              "    </tr>\n",
              "  </tbody>\n",
              "</table>\n",
              "</div>"
            ],
            "text/plain": [
              "                     Accuracy  Latitude  Longitude  ...  nwifi  ncell  Label\n",
              "Epoch Time                                          ...                     \n",
              "2017-03-25 08:46:23       NaN       NaN        NaN  ...    6.0    NaN      4\n",
              "2017-03-25 08:46:24       NaN       NaN        NaN  ...    6.0    NaN      4\n",
              "2017-03-25 08:46:25       NaN       NaN        NaN  ...    6.0    NaN      4\n",
              "2017-03-25 08:46:26       NaN       NaN        NaN  ...    NaN    NaN      4\n",
              "2017-03-25 08:46:27       NaN       NaN        NaN  ...    6.0    NaN      4\n",
              "\n",
              "[5 rows x 8 columns]"
            ]
          },
          "metadata": {
            "tags": []
          },
          "execution_count": 58
        }
      ]
    },
    {
      "cell_type": "code",
      "metadata": {
        "colab": {
          "base_uri": "https://localhost:8080/"
        },
        "id": "qVDRlZUXce5b",
        "outputId": "d42016b4-7f5c-45e4-de0d-a2eb155eddd2"
      },
      "source": [
        "train.info()"
      ],
      "execution_count": null,
      "outputs": [
        {
          "output_type": "stream",
          "text": [
            "<class 'pandas.core.frame.DataFrame'>\n",
            "DatetimeIndex: 980527 entries, 2017-03-25 08:46:23 to 2017-07-05 15:17:32\n",
            "Data columns (total 8 columns):\n",
            " #   Column      Non-Null Count   Dtype  \n",
            "---  ------      --------------   -----  \n",
            " 0   Accuracy    660951 non-null  float64\n",
            " 1   Latitude    660951 non-null  float64\n",
            " 2   Longitude   660951 non-null  float64\n",
            " 3   Altitude    660951 non-null  float64\n",
            " 4   nsatellite  892625 non-null  float64\n",
            " 5   nwifi       964645 non-null  float64\n",
            " 6   ncell       866733 non-null  float64\n",
            " 7   Label       980527 non-null  int64  \n",
            "dtypes: float64(7), int64(1)\n",
            "memory usage: 67.3 MB\n"
          ],
          "name": "stdout"
        }
      ]
    },
    {
      "cell_type": "code",
      "metadata": {
        "colab": {
          "base_uri": "https://localhost:8080/",
          "height": 442
        },
        "id": "RENMspcDkJxS",
        "outputId": "9823a72c-d867-41cd-b4bd-a687dffb6e42"
      },
      "source": [
        "valid = pd.merge(label_valid, cell_valid, on='Epoch Time', how='left')\n",
        "valid = pd.merge(valid, wifi_valid, on='Epoch Time', how='left')\n",
        "valid = pd.merge(valid, gps_valid, on='Epoch Time', how='left')\n",
        "valid = pd.merge(valid, location_valid, on='Epoch Time', how='left')\n",
        "valid.drop_duplicates(subset=['Epoch Time'], keep='first', inplace=True)\n",
        "valid.set_index(valid['Epoch Time'], inplace=True)\n",
        "valid = valid[['Accuracy', 'Latitude', 'Longitude', 'Altitude', 'nsatellite', 'nwifi', 'ncell', 'Label']]\n",
        "valid.head()"
      ],
      "execution_count": null,
      "outputs": [
        {
          "output_type": "execute_result",
          "data": {
            "text/html": [
              "<div>\n",
              "<style scoped>\n",
              "    .dataframe tbody tr th:only-of-type {\n",
              "        vertical-align: middle;\n",
              "    }\n",
              "\n",
              "    .dataframe tbody tr th {\n",
              "        vertical-align: top;\n",
              "    }\n",
              "\n",
              "    .dataframe thead th {\n",
              "        text-align: right;\n",
              "    }\n",
              "</style>\n",
              "<table border=\"1\" class=\"dataframe\">\n",
              "  <thead>\n",
              "    <tr style=\"text-align: right;\">\n",
              "      <th></th>\n",
              "      <th>Accuracy</th>\n",
              "      <th>Latitude</th>\n",
              "      <th>Longitude</th>\n",
              "      <th>Altitude</th>\n",
              "      <th>nsatellite</th>\n",
              "      <th>nwifi</th>\n",
              "      <th>ncell</th>\n",
              "      <th>Label</th>\n",
              "    </tr>\n",
              "    <tr>\n",
              "      <th>Epoch Time</th>\n",
              "      <th></th>\n",
              "      <th></th>\n",
              "      <th></th>\n",
              "      <th></th>\n",
              "      <th></th>\n",
              "      <th></th>\n",
              "      <th></th>\n",
              "      <th></th>\n",
              "    </tr>\n",
              "  </thead>\n",
              "  <tbody>\n",
              "    <tr>\n",
              "      <th>2017-06-14 08:04:52</th>\n",
              "      <td>6.0</td>\n",
              "      <td>50.826738</td>\n",
              "      <td>-0.119856</td>\n",
              "      <td>134.054522</td>\n",
              "      <td>16.0</td>\n",
              "      <td>11.0</td>\n",
              "      <td>NaN</td>\n",
              "      <td>3</td>\n",
              "    </tr>\n",
              "    <tr>\n",
              "      <th>2017-06-14 08:04:53</th>\n",
              "      <td>6.0</td>\n",
              "      <td>50.826746</td>\n",
              "      <td>-0.119839</td>\n",
              "      <td>134.170604</td>\n",
              "      <td>16.0</td>\n",
              "      <td>11.0</td>\n",
              "      <td>NaN</td>\n",
              "      <td>3</td>\n",
              "    </tr>\n",
              "    <tr>\n",
              "      <th>2017-06-14 08:04:54</th>\n",
              "      <td>6.0</td>\n",
              "      <td>50.826755</td>\n",
              "      <td>-0.119822</td>\n",
              "      <td>134.297500</td>\n",
              "      <td>16.0</td>\n",
              "      <td>NaN</td>\n",
              "      <td>NaN</td>\n",
              "      <td>3</td>\n",
              "    </tr>\n",
              "    <tr>\n",
              "      <th>2017-06-14 08:04:55</th>\n",
              "      <td>6.0</td>\n",
              "      <td>50.826761</td>\n",
              "      <td>-0.119806</td>\n",
              "      <td>134.367085</td>\n",
              "      <td>16.0</td>\n",
              "      <td>11.0</td>\n",
              "      <td>NaN</td>\n",
              "      <td>3</td>\n",
              "    </tr>\n",
              "    <tr>\n",
              "      <th>2017-06-14 08:04:56</th>\n",
              "      <td>6.0</td>\n",
              "      <td>50.826762</td>\n",
              "      <td>-0.119792</td>\n",
              "      <td>134.430774</td>\n",
              "      <td>16.0</td>\n",
              "      <td>11.0</td>\n",
              "      <td>NaN</td>\n",
              "      <td>3</td>\n",
              "    </tr>\n",
              "  </tbody>\n",
              "</table>\n",
              "</div>"
            ],
            "text/plain": [
              "                     Accuracy   Latitude  Longitude  ...  nwifi  ncell  Label\n",
              "Epoch Time                                           ...                     \n",
              "2017-06-14 08:04:52       6.0  50.826738  -0.119856  ...   11.0    NaN      3\n",
              "2017-06-14 08:04:53       6.0  50.826746  -0.119839  ...   11.0    NaN      3\n",
              "2017-06-14 08:04:54       6.0  50.826755  -0.119822  ...    NaN    NaN      3\n",
              "2017-06-14 08:04:55       6.0  50.826761  -0.119806  ...   11.0    NaN      3\n",
              "2017-06-14 08:04:56       6.0  50.826762  -0.119792  ...   11.0    NaN      3\n",
              "\n",
              "[5 rows x 8 columns]"
            ]
          },
          "metadata": {
            "tags": []
          },
          "execution_count": 50
        }
      ]
    },
    {
      "cell_type": "code",
      "metadata": {
        "colab": {
          "base_uri": "https://localhost:8080/"
        },
        "id": "mO25-mKskvVU",
        "outputId": "3c502eae-f0f5-4ec9-b088-de8ade8621d9"
      },
      "source": [
        "valid.info()"
      ],
      "execution_count": null,
      "outputs": [
        {
          "output_type": "stream",
          "text": [
            "<class 'pandas.core.frame.DataFrame'>\n",
            "DatetimeIndex: 128901 entries, 2017-06-14 08:04:52 to 2017-06-14 17:19:19\n",
            "Data columns (total 8 columns):\n",
            " #   Column      Non-Null Count   Dtype  \n",
            "---  ------      --------------   -----  \n",
            " 0   Accuracy    77438 non-null   float64\n",
            " 1   Latitude    77438 non-null   float64\n",
            " 2   Longitude   77438 non-null   float64\n",
            " 3   Altitude    77438 non-null   float64\n",
            " 4   nsatellite  114853 non-null  float64\n",
            " 5   nwifi       125252 non-null  float64\n",
            " 6   ncell       98578 non-null   float64\n",
            " 7   Label       128901 non-null  int64  \n",
            "dtypes: float64(7), int64(1)\n",
            "memory usage: 8.9 MB\n"
          ],
          "name": "stdout"
        }
      ]
    },
    {
      "cell_type": "code",
      "metadata": {
        "colab": {
          "base_uri": "https://localhost:8080/",
          "height": 442
        },
        "id": "EKg0bxLemVdw",
        "outputId": "c6c958d6-138b-4fc5-c1b4-d14b606ea08b"
      },
      "source": [
        "test = pd.merge(label_idx, cell_test, on='Epoch Time', how='left')\n",
        "test = pd.merge(test, wifi_test, on='Epoch Time', how='left')\n",
        "test = pd.merge(test, gps_test, on='Epoch Time', how='left')\n",
        "test = pd.merge(test, location_test, on='Epoch Time', how='left')\n",
        "test.drop_duplicates(subset=['Epoch Time'], keep='first', inplace=True)\n",
        "test.set_index(test['Epoch Time'], inplace=True)\n",
        "test = test[['Accuracy', 'Latitude', 'Longitude', 'Altitude', 'nsatellite', 'nwifi', 'ncell']]\n",
        "test.head()"
      ],
      "execution_count": null,
      "outputs": [
        {
          "output_type": "execute_result",
          "data": {
            "text/html": [
              "<div>\n",
              "<style scoped>\n",
              "    .dataframe tbody tr th:only-of-type {\n",
              "        vertical-align: middle;\n",
              "    }\n",
              "\n",
              "    .dataframe tbody tr th {\n",
              "        vertical-align: top;\n",
              "    }\n",
              "\n",
              "    .dataframe thead th {\n",
              "        text-align: right;\n",
              "    }\n",
              "</style>\n",
              "<table border=\"1\" class=\"dataframe\">\n",
              "  <thead>\n",
              "    <tr style=\"text-align: right;\">\n",
              "      <th></th>\n",
              "      <th>Accuracy</th>\n",
              "      <th>Latitude</th>\n",
              "      <th>Longitude</th>\n",
              "      <th>Altitude</th>\n",
              "      <th>nsatellite</th>\n",
              "      <th>nwifi</th>\n",
              "      <th>ncell</th>\n",
              "    </tr>\n",
              "    <tr>\n",
              "      <th>Epoch Time</th>\n",
              "      <th></th>\n",
              "      <th></th>\n",
              "      <th></th>\n",
              "      <th></th>\n",
              "      <th></th>\n",
              "      <th></th>\n",
              "      <th></th>\n",
              "    </tr>\n",
              "  </thead>\n",
              "  <tbody>\n",
              "    <tr>\n",
              "      <th>2049-02-13 13:20:46</th>\n",
              "      <td>NaN</td>\n",
              "      <td>NaN</td>\n",
              "      <td>NaN</td>\n",
              "      <td>NaN</td>\n",
              "      <td>2.0</td>\n",
              "      <td>6.0</td>\n",
              "      <td>NaN</td>\n",
              "    </tr>\n",
              "    <tr>\n",
              "      <th>2049-02-13 13:20:47</th>\n",
              "      <td>NaN</td>\n",
              "      <td>NaN</td>\n",
              "      <td>NaN</td>\n",
              "      <td>NaN</td>\n",
              "      <td>2.0</td>\n",
              "      <td>6.0</td>\n",
              "      <td>NaN</td>\n",
              "    </tr>\n",
              "    <tr>\n",
              "      <th>2049-02-13 13:20:48</th>\n",
              "      <td>NaN</td>\n",
              "      <td>NaN</td>\n",
              "      <td>NaN</td>\n",
              "      <td>NaN</td>\n",
              "      <td>2.0</td>\n",
              "      <td>6.0</td>\n",
              "      <td>NaN</td>\n",
              "    </tr>\n",
              "    <tr>\n",
              "      <th>2049-02-13 13:20:49</th>\n",
              "      <td>NaN</td>\n",
              "      <td>NaN</td>\n",
              "      <td>NaN</td>\n",
              "      <td>NaN</td>\n",
              "      <td>3.0</td>\n",
              "      <td>6.0</td>\n",
              "      <td>NaN</td>\n",
              "    </tr>\n",
              "    <tr>\n",
              "      <th>2049-02-13 13:20:50</th>\n",
              "      <td>NaN</td>\n",
              "      <td>NaN</td>\n",
              "      <td>NaN</td>\n",
              "      <td>NaN</td>\n",
              "      <td>2.0</td>\n",
              "      <td>6.0</td>\n",
              "      <td>NaN</td>\n",
              "    </tr>\n",
              "  </tbody>\n",
              "</table>\n",
              "</div>"
            ],
            "text/plain": [
              "                     Accuracy  Latitude  Longitude  ...  nsatellite  nwifi  ncell\n",
              "Epoch Time                                          ...                          \n",
              "2049-02-13 13:20:46       NaN       NaN        NaN  ...         2.0    6.0    NaN\n",
              "2049-02-13 13:20:47       NaN       NaN        NaN  ...         2.0    6.0    NaN\n",
              "2049-02-13 13:20:48       NaN       NaN        NaN  ...         2.0    6.0    NaN\n",
              "2049-02-13 13:20:49       NaN       NaN        NaN  ...         3.0    6.0    NaN\n",
              "2049-02-13 13:20:50       NaN       NaN        NaN  ...         2.0    6.0    NaN\n",
              "\n",
              "[5 rows x 7 columns]"
            ]
          },
          "metadata": {
            "tags": []
          },
          "execution_count": 52
        }
      ]
    },
    {
      "cell_type": "code",
      "metadata": {
        "colab": {
          "base_uri": "https://localhost:8080/"
        },
        "id": "rmdiCJO7mR-6",
        "outputId": "905c4467-dabb-412b-8160-00678812d9a7"
      },
      "source": [
        "test.info()"
      ],
      "execution_count": null,
      "outputs": [
        {
          "output_type": "stream",
          "text": [
            "<class 'pandas.core.frame.DataFrame'>\n",
            "DatetimeIndex: 671172 entries, 2049-02-13 13:20:46 to 2080-12-01 22:33:39\n",
            "Data columns (total 7 columns):\n",
            " #   Column      Non-Null Count   Dtype  \n",
            "---  ------      --------------   -----  \n",
            " 0   Accuracy    463152 non-null  float64\n",
            " 1   Latitude    463152 non-null  float64\n",
            " 2   Longitude   463152 non-null  float64\n",
            " 3   Altitude    463152 non-null  float64\n",
            " 4   nsatellite  620434 non-null  float64\n",
            " 5   nwifi       614844 non-null  float64\n",
            " 6   ncell       442684 non-null  float64\n",
            "dtypes: float64(7)\n",
            "memory usage: 41.0 MB\n"
          ],
          "name": "stdout"
        }
      ]
    },
    {
      "cell_type": "markdown",
      "metadata": {
        "id": "zsMUjB1oAB8-"
      },
      "source": [
        "## Handle NaN Value"
      ]
    },
    {
      "cell_type": "code",
      "metadata": {
        "id": "mpqBwQE2AHWy"
      },
      "source": [
        "train.fillna(method='ffill', limit=5, axis=0, inplace=True)\n",
        "train.fillna(method='bfill', limit=5, axis=0, inplace=True)\n",
        "valid.fillna(method='ffill', limit=5, axis=0, inplace=True)\n",
        "valid.fillna(method='bfill', limit=5, axis=0, inplace=True)\n",
        "test.fillna(method='ffill', limit=5, axis=0, inplace=True)\n",
        "test.fillna(method='bfill', limit=5, axis=0, inplace=True)"
      ],
      "execution_count": null,
      "outputs": []
    },
    {
      "cell_type": "code",
      "metadata": {
        "colab": {
          "base_uri": "https://localhost:8080/"
        },
        "id": "0LwhYFsesPnp",
        "outputId": "e8077d94-2d94-49c6-8af4-60513625c8ad"
      },
      "source": [
        "train.info()"
      ],
      "execution_count": null,
      "outputs": [
        {
          "output_type": "stream",
          "text": [
            "<class 'pandas.core.frame.DataFrame'>\n",
            "DatetimeIndex: 980527 entries, 2017-03-25 08:46:23 to 2017-07-05 15:17:32\n",
            "Data columns (total 8 columns):\n",
            " #   Column      Non-Null Count   Dtype  \n",
            "---  ------      --------------   -----  \n",
            " 0   Accuracy    678292 non-null  float64\n",
            " 1   Latitude    678292 non-null  float64\n",
            " 2   Longitude   678292 non-null  float64\n",
            " 3   Altitude    678292 non-null  float64\n",
            " 4   nsatellite  894062 non-null  float64\n",
            " 5   nwifi       980527 non-null  float64\n",
            " 6   ncell       882406 non-null  float64\n",
            " 7   Label       980527 non-null  int64  \n",
            "dtypes: float64(7), int64(1)\n",
            "memory usage: 67.3 MB\n"
          ],
          "name": "stdout"
        }
      ]
    },
    {
      "cell_type": "code",
      "metadata": {
        "colab": {
          "base_uri": "https://localhost:8080/"
        },
        "id": "hqfP2AievdsT",
        "outputId": "95669f0f-ca77-4842-93d7-7bd98f6e8226"
      },
      "source": [
        "valid.info()"
      ],
      "execution_count": null,
      "outputs": [
        {
          "output_type": "stream",
          "text": [
            "<class 'pandas.core.frame.DataFrame'>\n",
            "DatetimeIndex: 128901 entries, 2017-06-14 08:04:52 to 2017-06-14 17:19:19\n",
            "Data columns (total 8 columns):\n",
            " #   Column      Non-Null Count   Dtype  \n",
            "---  ------      --------------   -----  \n",
            " 0   Accuracy    79423 non-null   float64\n",
            " 1   Latitude    79423 non-null   float64\n",
            " 2   Longitude   79423 non-null   float64\n",
            " 3   Altitude    79423 non-null   float64\n",
            " 4   nsatellite  115010 non-null  float64\n",
            " 5   nwifi       127313 non-null  float64\n",
            " 6   ncell       100690 non-null  float64\n",
            " 7   Label       128901 non-null  int64  \n",
            "dtypes: float64(7), int64(1)\n",
            "memory usage: 8.9 MB\n"
          ],
          "name": "stdout"
        }
      ]
    },
    {
      "cell_type": "code",
      "metadata": {
        "id": "Trbh2VNTvg9r",
        "colab": {
          "base_uri": "https://localhost:8080/"
        },
        "outputId": "ef88f932-90a0-4e69-c1b3-a64028e4428a"
      },
      "source": [
        "test.info()"
      ],
      "execution_count": null,
      "outputs": [
        {
          "output_type": "stream",
          "text": [
            "<class 'pandas.core.frame.DataFrame'>\n",
            "DatetimeIndex: 671172 entries, 2049-02-13 13:20:46 to 2080-12-01 22:33:39\n",
            "Data columns (total 7 columns):\n",
            " #   Column      Non-Null Count   Dtype  \n",
            "---  ------      --------------   -----  \n",
            " 0   Accuracy    476679 non-null  float64\n",
            " 1   Latitude    476679 non-null  float64\n",
            " 2   Longitude   476679 non-null  float64\n",
            " 3   Altitude    476679 non-null  float64\n",
            " 4   nsatellite  622012 non-null  float64\n",
            " 5   nwifi       624502 non-null  float64\n",
            " 6   ncell       452854 non-null  float64\n",
            "dtypes: float64(7)\n",
            "memory usage: 41.0 MB\n"
          ],
          "name": "stdout"
        }
      ]
    },
    {
      "cell_type": "code",
      "metadata": {
        "colab": {
          "base_uri": "https://localhost:8080/"
        },
        "id": "vI2Sa7EXxvbG",
        "outputId": "eef9ef8c-3bbc-4a35-c2cd-84a2e07aa8fc"
      },
      "source": [
        "train.isnull().sum().sum() + valid.isnull().sum().sum() + test.isnull().sum().sum()"
      ],
      "execution_count": null,
      "outputs": [
        {
          "output_type": "execute_result",
          "data": {
            "text/plain": [
              "2829604"
            ]
          },
          "metadata": {
            "tags": []
          },
          "execution_count": 62
        }
      ]
    },
    {
      "cell_type": "code",
      "metadata": {
        "colab": {
          "base_uri": "https://localhost:8080/"
        },
        "id": "8_tP_mRbx732",
        "outputId": "2b606f96-5c88-4809-975e-cf6be4ed5666"
      },
      "source": [
        "train.isnull().sum().sum() + valid.isnull().sum().sum() + test.isnull().sum().sum()"
      ],
      "execution_count": null,
      "outputs": [
        {
          "output_type": "execute_result",
          "data": {
            "text/plain": [
              "2700413"
            ]
          },
          "metadata": {
            "tags": []
          },
          "execution_count": 64
        }
      ]
    }
  ]
}